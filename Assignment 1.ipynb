{
 "cells": [
  {
   "cell_type": "markdown",
   "metadata": {},
   "source": [
    "# HM1: Logistic Regression.\n",
    "\n",
    "### Name: Atul Gupta\n",
    "### CWID: 20015539\n"
   ]
  },
  {
   "cell_type": "markdown",
   "metadata": {},
   "source": [
    "#### For this assignment, you will build 6 models. You need to train Logistic Regression/Regularized Logistic Regression each with Batch Gradient Descent, Stochastic Gradient Descent and Mini Batch Gradient Descent. Also you should plot their objective values versus epochs and compare their training and testing accuracies. You will need to tune the parameters a little bit to obtain reasonable results.\n",
    "\n",
    "#### You do not have to follow the following procedure. You may implement your own functions and methods, but you need to show your results and plots."
   ]
  },
  {
   "cell_type": "code",
   "execution_count": 1,
   "metadata": {},
   "outputs": [],
   "source": [
    "# Load Packages\n",
    "import pandas as pd\n",
    "from sklearn.model_selection import train_test_split"
   ]
  },
  {
   "cell_type": "markdown",
   "metadata": {},
   "source": [
    "# 1. Data processing\n",
    "\n",
    "- Download the Breast Cancer dataset from canvas or from https://archive.ics.uci.edu/ml/datasets/breast+cancer+wisconsin+(diagnostic)\n",
    "- Load the data.\n",
    "- Preprocess the data."
   ]
  },
  {
   "cell_type": "markdown",
   "metadata": {},
   "source": [
    "## 1.1. Load the data"
   ]
  },
  {
   "cell_type": "code",
   "execution_count": 2,
   "metadata": {},
   "outputs": [
    {
     "data": {
      "text/html": [
       "<div>\n",
       "<style scoped>\n",
       "    .dataframe tbody tr th:only-of-type {\n",
       "        vertical-align: middle;\n",
       "    }\n",
       "\n",
       "    .dataframe tbody tr th {\n",
       "        vertical-align: top;\n",
       "    }\n",
       "\n",
       "    .dataframe thead th {\n",
       "        text-align: right;\n",
       "    }\n",
       "</style>\n",
       "<table border=\"1\" class=\"dataframe\">\n",
       "  <thead>\n",
       "    <tr style=\"text-align: right;\">\n",
       "      <th></th>\n",
       "      <th>id</th>\n",
       "      <th>diagnosis</th>\n",
       "      <th>radius_mean</th>\n",
       "      <th>texture_mean</th>\n",
       "      <th>perimeter_mean</th>\n",
       "      <th>area_mean</th>\n",
       "      <th>smoothness_mean</th>\n",
       "      <th>compactness_mean</th>\n",
       "      <th>concavity_mean</th>\n",
       "      <th>concave points_mean</th>\n",
       "      <th>...</th>\n",
       "      <th>texture_worst</th>\n",
       "      <th>perimeter_worst</th>\n",
       "      <th>area_worst</th>\n",
       "      <th>smoothness_worst</th>\n",
       "      <th>compactness_worst</th>\n",
       "      <th>concavity_worst</th>\n",
       "      <th>concave points_worst</th>\n",
       "      <th>symmetry_worst</th>\n",
       "      <th>fractal_dimension_worst</th>\n",
       "      <th>Unnamed: 32</th>\n",
       "    </tr>\n",
       "  </thead>\n",
       "  <tbody>\n",
       "    <tr>\n",
       "      <th>0</th>\n",
       "      <td>842302</td>\n",
       "      <td>M</td>\n",
       "      <td>17.99</td>\n",
       "      <td>10.38</td>\n",
       "      <td>122.80</td>\n",
       "      <td>1001.0</td>\n",
       "      <td>0.11840</td>\n",
       "      <td>0.27760</td>\n",
       "      <td>0.3001</td>\n",
       "      <td>0.14710</td>\n",
       "      <td>...</td>\n",
       "      <td>17.33</td>\n",
       "      <td>184.60</td>\n",
       "      <td>2019.0</td>\n",
       "      <td>0.1622</td>\n",
       "      <td>0.6656</td>\n",
       "      <td>0.7119</td>\n",
       "      <td>0.2654</td>\n",
       "      <td>0.4601</td>\n",
       "      <td>0.11890</td>\n",
       "      <td>NaN</td>\n",
       "    </tr>\n",
       "    <tr>\n",
       "      <th>1</th>\n",
       "      <td>842517</td>\n",
       "      <td>M</td>\n",
       "      <td>20.57</td>\n",
       "      <td>17.77</td>\n",
       "      <td>132.90</td>\n",
       "      <td>1326.0</td>\n",
       "      <td>0.08474</td>\n",
       "      <td>0.07864</td>\n",
       "      <td>0.0869</td>\n",
       "      <td>0.07017</td>\n",
       "      <td>...</td>\n",
       "      <td>23.41</td>\n",
       "      <td>158.80</td>\n",
       "      <td>1956.0</td>\n",
       "      <td>0.1238</td>\n",
       "      <td>0.1866</td>\n",
       "      <td>0.2416</td>\n",
       "      <td>0.1860</td>\n",
       "      <td>0.2750</td>\n",
       "      <td>0.08902</td>\n",
       "      <td>NaN</td>\n",
       "    </tr>\n",
       "    <tr>\n",
       "      <th>2</th>\n",
       "      <td>84300903</td>\n",
       "      <td>M</td>\n",
       "      <td>19.69</td>\n",
       "      <td>21.25</td>\n",
       "      <td>130.00</td>\n",
       "      <td>1203.0</td>\n",
       "      <td>0.10960</td>\n",
       "      <td>0.15990</td>\n",
       "      <td>0.1974</td>\n",
       "      <td>0.12790</td>\n",
       "      <td>...</td>\n",
       "      <td>25.53</td>\n",
       "      <td>152.50</td>\n",
       "      <td>1709.0</td>\n",
       "      <td>0.1444</td>\n",
       "      <td>0.4245</td>\n",
       "      <td>0.4504</td>\n",
       "      <td>0.2430</td>\n",
       "      <td>0.3613</td>\n",
       "      <td>0.08758</td>\n",
       "      <td>NaN</td>\n",
       "    </tr>\n",
       "    <tr>\n",
       "      <th>3</th>\n",
       "      <td>84348301</td>\n",
       "      <td>M</td>\n",
       "      <td>11.42</td>\n",
       "      <td>20.38</td>\n",
       "      <td>77.58</td>\n",
       "      <td>386.1</td>\n",
       "      <td>0.14250</td>\n",
       "      <td>0.28390</td>\n",
       "      <td>0.2414</td>\n",
       "      <td>0.10520</td>\n",
       "      <td>...</td>\n",
       "      <td>26.50</td>\n",
       "      <td>98.87</td>\n",
       "      <td>567.7</td>\n",
       "      <td>0.2098</td>\n",
       "      <td>0.8663</td>\n",
       "      <td>0.6869</td>\n",
       "      <td>0.2575</td>\n",
       "      <td>0.6638</td>\n",
       "      <td>0.17300</td>\n",
       "      <td>NaN</td>\n",
       "    </tr>\n",
       "    <tr>\n",
       "      <th>4</th>\n",
       "      <td>84358402</td>\n",
       "      <td>M</td>\n",
       "      <td>20.29</td>\n",
       "      <td>14.34</td>\n",
       "      <td>135.10</td>\n",
       "      <td>1297.0</td>\n",
       "      <td>0.10030</td>\n",
       "      <td>0.13280</td>\n",
       "      <td>0.1980</td>\n",
       "      <td>0.10430</td>\n",
       "      <td>...</td>\n",
       "      <td>16.67</td>\n",
       "      <td>152.20</td>\n",
       "      <td>1575.0</td>\n",
       "      <td>0.1374</td>\n",
       "      <td>0.2050</td>\n",
       "      <td>0.4000</td>\n",
       "      <td>0.1625</td>\n",
       "      <td>0.2364</td>\n",
       "      <td>0.07678</td>\n",
       "      <td>NaN</td>\n",
       "    </tr>\n",
       "  </tbody>\n",
       "</table>\n",
       "<p>5 rows × 33 columns</p>\n",
       "</div>"
      ],
      "text/plain": [
       "         id diagnosis  radius_mean  texture_mean  perimeter_mean  area_mean  \\\n",
       "0    842302         M        17.99         10.38          122.80     1001.0   \n",
       "1    842517         M        20.57         17.77          132.90     1326.0   \n",
       "2  84300903         M        19.69         21.25          130.00     1203.0   \n",
       "3  84348301         M        11.42         20.38           77.58      386.1   \n",
       "4  84358402         M        20.29         14.34          135.10     1297.0   \n",
       "\n",
       "   smoothness_mean  compactness_mean  concavity_mean  concave points_mean  \\\n",
       "0          0.11840           0.27760          0.3001              0.14710   \n",
       "1          0.08474           0.07864          0.0869              0.07017   \n",
       "2          0.10960           0.15990          0.1974              0.12790   \n",
       "3          0.14250           0.28390          0.2414              0.10520   \n",
       "4          0.10030           0.13280          0.1980              0.10430   \n",
       "\n",
       "   ...  texture_worst  perimeter_worst  area_worst  smoothness_worst  \\\n",
       "0  ...          17.33           184.60      2019.0            0.1622   \n",
       "1  ...          23.41           158.80      1956.0            0.1238   \n",
       "2  ...          25.53           152.50      1709.0            0.1444   \n",
       "3  ...          26.50            98.87       567.7            0.2098   \n",
       "4  ...          16.67           152.20      1575.0            0.1374   \n",
       "\n",
       "   compactness_worst  concavity_worst  concave points_worst  symmetry_worst  \\\n",
       "0             0.6656           0.7119                0.2654          0.4601   \n",
       "1             0.1866           0.2416                0.1860          0.2750   \n",
       "2             0.4245           0.4504                0.2430          0.3613   \n",
       "3             0.8663           0.6869                0.2575          0.6638   \n",
       "4             0.2050           0.4000                0.1625          0.2364   \n",
       "\n",
       "   fractal_dimension_worst  Unnamed: 32  \n",
       "0                  0.11890          NaN  \n",
       "1                  0.08902          NaN  \n",
       "2                  0.08758          NaN  \n",
       "3                  0.17300          NaN  \n",
       "4                  0.07678          NaN  \n",
       "\n",
       "[5 rows x 33 columns]"
      ]
     },
     "execution_count": 2,
     "metadata": {},
     "output_type": "execute_result"
    }
   ],
   "source": [
    "data = pd.read_csv(\"data.csv\")\n",
    "data.head()"
   ]
  },
  {
   "cell_type": "markdown",
   "metadata": {},
   "source": [
    "## 1.2 Examine and clean data"
   ]
  },
  {
   "cell_type": "code",
   "execution_count": 3,
   "metadata": {},
   "outputs": [
    {
     "data": {
      "text/html": [
       "<div>\n",
       "<style scoped>\n",
       "    .dataframe tbody tr th:only-of-type {\n",
       "        vertical-align: middle;\n",
       "    }\n",
       "\n",
       "    .dataframe tbody tr th {\n",
       "        vertical-align: top;\n",
       "    }\n",
       "\n",
       "    .dataframe thead th {\n",
       "        text-align: right;\n",
       "    }\n",
       "</style>\n",
       "<table border=\"1\" class=\"dataframe\">\n",
       "  <thead>\n",
       "    <tr style=\"text-align: right;\">\n",
       "      <th></th>\n",
       "      <th>diagnosis</th>\n",
       "      <th>radius_mean</th>\n",
       "      <th>texture_mean</th>\n",
       "      <th>perimeter_mean</th>\n",
       "      <th>area_mean</th>\n",
       "      <th>smoothness_mean</th>\n",
       "      <th>compactness_mean</th>\n",
       "      <th>concavity_mean</th>\n",
       "      <th>concave points_mean</th>\n",
       "      <th>symmetry_mean</th>\n",
       "      <th>...</th>\n",
       "      <th>radius_worst</th>\n",
       "      <th>texture_worst</th>\n",
       "      <th>perimeter_worst</th>\n",
       "      <th>area_worst</th>\n",
       "      <th>smoothness_worst</th>\n",
       "      <th>compactness_worst</th>\n",
       "      <th>concavity_worst</th>\n",
       "      <th>concave points_worst</th>\n",
       "      <th>symmetry_worst</th>\n",
       "      <th>fractal_dimension_worst</th>\n",
       "    </tr>\n",
       "  </thead>\n",
       "  <tbody>\n",
       "    <tr>\n",
       "      <th>0</th>\n",
       "      <td>-1</td>\n",
       "      <td>17.99</td>\n",
       "      <td>10.38</td>\n",
       "      <td>122.80</td>\n",
       "      <td>1001.0</td>\n",
       "      <td>0.11840</td>\n",
       "      <td>0.27760</td>\n",
       "      <td>0.3001</td>\n",
       "      <td>0.14710</td>\n",
       "      <td>0.2419</td>\n",
       "      <td>...</td>\n",
       "      <td>25.38</td>\n",
       "      <td>17.33</td>\n",
       "      <td>184.60</td>\n",
       "      <td>2019.0</td>\n",
       "      <td>0.1622</td>\n",
       "      <td>0.6656</td>\n",
       "      <td>0.7119</td>\n",
       "      <td>0.2654</td>\n",
       "      <td>0.4601</td>\n",
       "      <td>0.11890</td>\n",
       "    </tr>\n",
       "    <tr>\n",
       "      <th>1</th>\n",
       "      <td>-1</td>\n",
       "      <td>20.57</td>\n",
       "      <td>17.77</td>\n",
       "      <td>132.90</td>\n",
       "      <td>1326.0</td>\n",
       "      <td>0.08474</td>\n",
       "      <td>0.07864</td>\n",
       "      <td>0.0869</td>\n",
       "      <td>0.07017</td>\n",
       "      <td>0.1812</td>\n",
       "      <td>...</td>\n",
       "      <td>24.99</td>\n",
       "      <td>23.41</td>\n",
       "      <td>158.80</td>\n",
       "      <td>1956.0</td>\n",
       "      <td>0.1238</td>\n",
       "      <td>0.1866</td>\n",
       "      <td>0.2416</td>\n",
       "      <td>0.1860</td>\n",
       "      <td>0.2750</td>\n",
       "      <td>0.08902</td>\n",
       "    </tr>\n",
       "    <tr>\n",
       "      <th>2</th>\n",
       "      <td>-1</td>\n",
       "      <td>19.69</td>\n",
       "      <td>21.25</td>\n",
       "      <td>130.00</td>\n",
       "      <td>1203.0</td>\n",
       "      <td>0.10960</td>\n",
       "      <td>0.15990</td>\n",
       "      <td>0.1974</td>\n",
       "      <td>0.12790</td>\n",
       "      <td>0.2069</td>\n",
       "      <td>...</td>\n",
       "      <td>23.57</td>\n",
       "      <td>25.53</td>\n",
       "      <td>152.50</td>\n",
       "      <td>1709.0</td>\n",
       "      <td>0.1444</td>\n",
       "      <td>0.4245</td>\n",
       "      <td>0.4504</td>\n",
       "      <td>0.2430</td>\n",
       "      <td>0.3613</td>\n",
       "      <td>0.08758</td>\n",
       "    </tr>\n",
       "    <tr>\n",
       "      <th>3</th>\n",
       "      <td>-1</td>\n",
       "      <td>11.42</td>\n",
       "      <td>20.38</td>\n",
       "      <td>77.58</td>\n",
       "      <td>386.1</td>\n",
       "      <td>0.14250</td>\n",
       "      <td>0.28390</td>\n",
       "      <td>0.2414</td>\n",
       "      <td>0.10520</td>\n",
       "      <td>0.2597</td>\n",
       "      <td>...</td>\n",
       "      <td>14.91</td>\n",
       "      <td>26.50</td>\n",
       "      <td>98.87</td>\n",
       "      <td>567.7</td>\n",
       "      <td>0.2098</td>\n",
       "      <td>0.8663</td>\n",
       "      <td>0.6869</td>\n",
       "      <td>0.2575</td>\n",
       "      <td>0.6638</td>\n",
       "      <td>0.17300</td>\n",
       "    </tr>\n",
       "    <tr>\n",
       "      <th>4</th>\n",
       "      <td>-1</td>\n",
       "      <td>20.29</td>\n",
       "      <td>14.34</td>\n",
       "      <td>135.10</td>\n",
       "      <td>1297.0</td>\n",
       "      <td>0.10030</td>\n",
       "      <td>0.13280</td>\n",
       "      <td>0.1980</td>\n",
       "      <td>0.10430</td>\n",
       "      <td>0.1809</td>\n",
       "      <td>...</td>\n",
       "      <td>22.54</td>\n",
       "      <td>16.67</td>\n",
       "      <td>152.20</td>\n",
       "      <td>1575.0</td>\n",
       "      <td>0.1374</td>\n",
       "      <td>0.2050</td>\n",
       "      <td>0.4000</td>\n",
       "      <td>0.1625</td>\n",
       "      <td>0.2364</td>\n",
       "      <td>0.07678</td>\n",
       "    </tr>\n",
       "  </tbody>\n",
       "</table>\n",
       "<p>5 rows × 31 columns</p>\n",
       "</div>"
      ],
      "text/plain": [
       "   diagnosis  radius_mean  texture_mean  perimeter_mean  area_mean  \\\n",
       "0         -1        17.99         10.38          122.80     1001.0   \n",
       "1         -1        20.57         17.77          132.90     1326.0   \n",
       "2         -1        19.69         21.25          130.00     1203.0   \n",
       "3         -1        11.42         20.38           77.58      386.1   \n",
       "4         -1        20.29         14.34          135.10     1297.0   \n",
       "\n",
       "   smoothness_mean  compactness_mean  concavity_mean  concave points_mean  \\\n",
       "0          0.11840           0.27760          0.3001              0.14710   \n",
       "1          0.08474           0.07864          0.0869              0.07017   \n",
       "2          0.10960           0.15990          0.1974              0.12790   \n",
       "3          0.14250           0.28390          0.2414              0.10520   \n",
       "4          0.10030           0.13280          0.1980              0.10430   \n",
       "\n",
       "   symmetry_mean  ...  radius_worst  texture_worst  perimeter_worst  \\\n",
       "0         0.2419  ...         25.38          17.33           184.60   \n",
       "1         0.1812  ...         24.99          23.41           158.80   \n",
       "2         0.2069  ...         23.57          25.53           152.50   \n",
       "3         0.2597  ...         14.91          26.50            98.87   \n",
       "4         0.1809  ...         22.54          16.67           152.20   \n",
       "\n",
       "   area_worst  smoothness_worst  compactness_worst  concavity_worst  \\\n",
       "0      2019.0            0.1622             0.6656           0.7119   \n",
       "1      1956.0            0.1238             0.1866           0.2416   \n",
       "2      1709.0            0.1444             0.4245           0.4504   \n",
       "3       567.7            0.2098             0.8663           0.6869   \n",
       "4      1575.0            0.1374             0.2050           0.4000   \n",
       "\n",
       "   concave points_worst  symmetry_worst  fractal_dimension_worst  \n",
       "0                0.2654          0.4601                  0.11890  \n",
       "1                0.1860          0.2750                  0.08902  \n",
       "2                0.2430          0.3613                  0.08758  \n",
       "3                0.2575          0.6638                  0.17300  \n",
       "4                0.1625          0.2364                  0.07678  \n",
       "\n",
       "[5 rows x 31 columns]"
      ]
     },
     "execution_count": 3,
     "metadata": {},
     "output_type": "execute_result"
    }
   ],
   "source": [
    "# Some columns may not be useful for the model (For example, the first column contains ID number which may be irrelavant). \n",
    "# You need to get rid of the ID number feature.\n",
    "# Also you should transform target labels in the second column from 'B' and 'M' to 1 and -1.\n",
    "data.drop('id',inplace=True,axis=1)\n",
    "data.drop('Unnamed: 32',inplace=True,axis=1)\n",
    "\n",
    "data['diagnosis'] = data['diagnosis'].apply(lambda x: 1 if x == \"B\" else -1)\n",
    "\n",
    "data.head()"
   ]
  },
  {
   "cell_type": "code",
   "execution_count": 4,
   "metadata": {},
   "outputs": [
    {
     "data": {
      "text/plain": [
       "(569, 31)"
      ]
     },
     "execution_count": 4,
     "metadata": {},
     "output_type": "execute_result"
    }
   ],
   "source": [
    "data.shape"
   ]
  },
  {
   "cell_type": "markdown",
   "metadata": {},
   "source": [
    "## 1.3. Partition to training and testing sets"
   ]
  },
  {
   "cell_type": "code",
   "execution_count": 5,
   "metadata": {},
   "outputs": [],
   "source": [
    "# You can partition using 80% training data and 20% testing data. It is a commonly used ratio in machinel learning.\n",
    "X = data.drop('diagnosis',axis=1)\n",
    "y = data['diagnosis']\n",
    "x_train, x_test, y_train, y_test = train_test_split(X,y,test_size=0.2)\n"
   ]
  },
  {
   "cell_type": "code",
   "execution_count": 6,
   "metadata": {},
   "outputs": [],
   "source": [
    "y_train = y_train.values.reshape((y_train.shape[0],1))\n",
    "y_test = y_test.values.reshape((y_test.shape[0],1))"
   ]
  },
  {
   "cell_type": "code",
   "execution_count": 7,
   "metadata": {},
   "outputs": [
    {
     "data": {
      "text/plain": [
       "(455, 30)"
      ]
     },
     "execution_count": 7,
     "metadata": {},
     "output_type": "execute_result"
    }
   ],
   "source": [
    "x_train.shape"
   ]
  },
  {
   "cell_type": "code",
   "execution_count": 8,
   "metadata": {},
   "outputs": [
    {
     "data": {
      "text/plain": [
       "(455, 1)"
      ]
     },
     "execution_count": 8,
     "metadata": {},
     "output_type": "execute_result"
    }
   ],
   "source": [
    "y_train.shape"
   ]
  },
  {
   "cell_type": "markdown",
   "metadata": {},
   "source": [
    "## 1.4. Feature scaling"
   ]
  },
  {
   "cell_type": "markdown",
   "metadata": {},
   "source": [
    "Use the standardization to trainsform both training and test features"
   ]
  },
  {
   "cell_type": "code",
   "execution_count": 9,
   "metadata": {},
   "outputs": [
    {
     "name": "stdout",
     "output_type": "stream",
     "text": [
      "test mean = \n",
      "radius_mean                0.085380\n",
      "texture_mean               0.014310\n",
      "perimeter_mean             0.071169\n",
      "area_mean                  0.062798\n",
      "smoothness_mean           -0.120151\n",
      "compactness_mean          -0.111335\n",
      "concavity_mean            -0.048705\n",
      "concave points_mean        0.001621\n",
      "symmetry_mean             -0.174717\n",
      "fractal_dimension_mean    -0.167887\n",
      "radius_se                 -0.048978\n",
      "texture_se                 0.151420\n",
      "perimeter_se              -0.061065\n",
      "area_se                   -0.043889\n",
      "smoothness_se             -0.116688\n",
      "compactness_se            -0.148538\n",
      "concavity_se              -0.097439\n",
      "concave points_se         -0.047496\n",
      "symmetry_se               -0.071781\n",
      "fractal_dimension_se      -0.163372\n",
      "radius_worst               0.062224\n",
      "texture_worst              0.090598\n",
      "perimeter_worst            0.042938\n",
      "area_worst                 0.035229\n",
      "smoothness_worst          -0.102307\n",
      "compactness_worst         -0.115950\n",
      "concavity_worst           -0.075944\n",
      "concave points_worst      -0.003255\n",
      "symmetry_worst            -0.043621\n",
      "fractal_dimension_worst   -0.138108\n",
      "dtype: float64\n",
      "\n",
      "test std = \n",
      "radius_mean                0.954787\n",
      "texture_mean               0.905185\n",
      "perimeter_mean             0.942292\n",
      "area_mean                  0.966112\n",
      "smoothness_mean            0.926526\n",
      "compactness_mean           0.823506\n",
      "concavity_mean             0.852541\n",
      "concave points_mean        0.931352\n",
      "symmetry_mean              0.904010\n",
      "fractal_dimension_mean     0.779163\n",
      "radius_se                  0.799893\n",
      "texture_se                 1.094740\n",
      "perimeter_se               0.777432\n",
      "area_se                    0.727680\n",
      "smoothness_se              0.720878\n",
      "compactness_se             0.845183\n",
      "concavity_se               0.677774\n",
      "concave points_se          0.933043\n",
      "symmetry_se                0.822928\n",
      "fractal_dimension_se       0.661739\n",
      "radius_worst               0.967283\n",
      "texture_worst              0.875924\n",
      "perimeter_worst            0.942284\n",
      "area_worst                 0.967770\n",
      "smoothness_worst           0.939118\n",
      "compactness_worst          0.804578\n",
      "concavity_worst            0.843568\n",
      "concave points_worst       0.952971\n",
      "symmetry_worst             1.021208\n",
      "fractal_dimension_worst    0.833519\n",
      "dtype: float64\n"
     ]
    }
   ],
   "source": [
    "# Standardization\n",
    "import numpy as np\n",
    "\n",
    "# calculate mu and sig using the training set\n",
    "d = x_train.shape[1]\n",
    "mu = np.mean(x_train, axis=0).values.reshape(1, d)\n",
    "sig = np.std(x_train, axis=0).values.reshape(1, d)\n",
    "\n",
    "# transform the training features\n",
    "x_train = (x_train - mu) / (sig + 1E-6)\n",
    "\n",
    "# transform the test features\n",
    "x_test = (x_test - mu) / (sig + 1E-6)\n",
    "\n",
    "print('test mean = ')\n",
    "print(np.mean(x_test, axis=0))\n",
    "print()\n",
    "print('test std = ')\n",
    "print(np.std(x_test, axis=0))"
   ]
  },
  {
   "cell_type": "code",
   "execution_count": 10,
   "metadata": {},
   "outputs": [],
   "source": [
    "# Adding bias terms\n",
    "x_train = np.concatenate((x_train, np.ones((x_train.shape[0], 1))), axis=1)\n",
    "x_test = np.concatenate((x_test, np.ones((x_test.shape[0], 1))), axis=1)\n"
   ]
  },
  {
   "cell_type": "markdown",
   "metadata": {},
   "source": [
    "# 2.  Logistic Regression Model\n",
    "\n",
    "The objective function is $Q (w; X, y) = \\frac{1}{n} \\sum_{i=1}^n \\log \\Big( 1 + \\exp \\big( - y_i x_i^T w \\big) \\Big) + \\frac{\\lambda}{2} \\| w \\|_2^2 $.\n",
    "\n",
    "When $\\lambda = 0$, the model is a regular logistric regression and when $\\lambda > 0$, it essentially becomes a regularized logistric regression."
   ]
  },
  {
   "cell_type": "code",
   "execution_count": 11,
   "metadata": {},
   "outputs": [],
   "source": [
    "# Calculate the objective function value, or loss\n",
    "# Inumpyuts:\n",
    "#     w: weight: d-by-1 vector\n",
    "#     x: data: n-by-d matrix\n",
    "#     y: label: n-by-1 vector\n",
    "#     lam: regularization parameter: scalar\n",
    "# Return:\n",
    "#     objective function value, or loss (scalar)\n",
    "\n",
    "def objective(w, x, y, lam):\n",
    "    loss = np.mean(np.log(1 + np.exp(-((y * x) @ w))))\n",
    "    reg = (lam / 2) * np.sum(w * w)\n",
    "    return loss + reg   "
   ]
  },
  {
   "cell_type": "markdown",
   "metadata": {},
   "source": [
    "# 3. Numerical optimization"
   ]
  },
  {
   "cell_type": "markdown",
   "metadata": {},
   "source": [
    "## 3.1. Gradient descent\n"
   ]
  },
  {
   "cell_type": "markdown",
   "metadata": {},
   "source": [
    "The gradient at $w$ for regularized logistic regression is  $g = - \\frac{1}{n} \\sum_{i=1}^n \\frac{y_i x_i }{1 + \\exp ( y_i x_i^T w)} + \\lambda w$"
   ]
  },
  {
   "cell_type": "code",
   "execution_count": 12,
   "metadata": {},
   "outputs": [],
   "source": [
    "# Calculate the gradient\n",
    "# Inputs:\n",
    "#     w: weight: d-by-1 matrix\n",
    "#     x: data: n-by-d matrix\n",
    "#     y: label: n-by-1 matrix\n",
    "#     lam: regularization parameter: scalar\n",
    "# Return:\n",
    "#     g: gradient: d-by-1 matrix\n",
    "\n",
    "# Implementing gradient function for Logistic Regression.\n",
    "\n",
    "def gradient(w, x, y, lam):\n",
    "    n = x.shape[0]\n",
    "    d = x.shape[1]\n",
    "    return -np.mean((y * x) / (1 + np.exp((y * x) @ w)), axis=0).reshape(d, 1) + lam * w"
   ]
  },
  {
   "cell_type": "code",
   "execution_count": 13,
   "metadata": {},
   "outputs": [],
   "source": [
    "# Gradient descent for solving logistic regression\n",
    "# You will need to do iterative process (loops) to obtain optimal weights in this function\n",
    "\n",
    "# Inputs:\n",
    "#     x: data: n-by-d matrix\n",
    "#     y: label: n-by-1 matrix\n",
    "#     lam: scalar, the regularization parameter\n",
    "#     learning_rate: scalar\n",
    "#     w: weights: d-by-1 vector, initialization of w\n",
    "#     max_epoch: integer, the maximal epochs\n",
    "# Return:\n",
    "#     w: weights: d-by-1 vector, the solution\n",
    "#     objvals: a record of each epoch's objective value\n",
    "\n",
    "def gradient_descent(x, y, lam, learning_rate, w, max_epoch=100):\n",
    "    n = x.shape[0]\n",
    "    d = x.shape[1]\n",
    "    \n",
    "    \n",
    "    w_temp = np.zeros((max_epoch, d, 1))\n",
    "    obj_vals = np.zeros(max_epoch)\n",
    "    \n",
    "    # Calculating gradient for each epoch\n",
    "    for i in range(max_epoch):\n",
    "        g = gradient(w, x, y, lam)\n",
    "        w -= learning_rate * g\n",
    "        w_temp[i] = w\n",
    "        \n",
    "        obj_vals[i] = objective(w, x, y, lam)\n",
    "        \n",
    "    # Final weight set is the one where objective function is minimized\n",
    "    w_final = w_temp[np.argmin(obj_vals)]\n",
    "    \n",
    "    return w_final, obj_vals"
   ]
  },
  {
   "cell_type": "code",
   "execution_count": 14,
   "metadata": {},
   "outputs": [],
   "source": [
    "#Use gradient_descent function to obtain your optimal weights and a list of objective values over each epoch.\n"
   ]
  },
  {
   "cell_type": "code",
   "execution_count": 15,
   "metadata": {},
   "outputs": [],
   "source": [
    "# Train logistic regression\n",
    "# You should get the optimal weights and a list of objective values by using gradient_descent function.\n",
    "d = x_train.shape[1]\n",
    "learning_rate = 0.01\n",
    "w = np.zeros((d, 1))\n",
    "weights_gd, objective_gd = gradient_descent(x_train, y_train, 0, learning_rate, w)"
   ]
  },
  {
   "cell_type": "code",
   "execution_count": 16,
   "metadata": {},
   "outputs": [
    {
     "data": {
      "text/plain": [
       "array([[-0.15454099],\n",
       "       [-0.1092948 ],\n",
       "       [-0.1556063 ],\n",
       "       [-0.14842088],\n",
       "       [-0.06267262],\n",
       "       [-0.10351212],\n",
       "       [-0.13041099],\n",
       "       [-0.15761374],\n",
       "       [-0.0596925 ],\n",
       "       [ 0.0253307 ],\n",
       "       [-0.1147995 ],\n",
       "       [-0.00098386],\n",
       "       [-0.1077451 ],\n",
       "       [-0.10797673],\n",
       "       [ 0.01888471],\n",
       "       [-0.02991127],\n",
       "       [-0.01653561],\n",
       "       [-0.06088947],\n",
       "       [ 0.01452012],\n",
       "       [ 0.01790654],\n",
       "       [-0.1688968 ],\n",
       "       [-0.12141975],\n",
       "       [-0.16697165],\n",
       "       [-0.15697761],\n",
       "       [-0.09012981],\n",
       "       [-0.11374993],\n",
       "       [-0.12656481],\n",
       "       [-0.16341858],\n",
       "       [-0.0937316 ],\n",
       "       [-0.05698557],\n",
       "       [ 0.09654289]])"
      ]
     },
     "execution_count": 16,
     "metadata": {},
     "output_type": "execute_result"
    }
   ],
   "source": [
    "weights_gd"
   ]
  },
  {
   "cell_type": "code",
   "execution_count": 17,
   "metadata": {},
   "outputs": [
    {
     "data": {
      "text/plain": [
       "0.2510258019082143"
      ]
     },
     "execution_count": 17,
     "metadata": {},
     "output_type": "execute_result"
    }
   ],
   "source": [
    "# Finding the minima\n",
    "\n",
    "min(objective_gd)"
   ]
  },
  {
   "cell_type": "code",
   "execution_count": 18,
   "metadata": {},
   "outputs": [],
   "source": [
    "# Train regularized logistric regression\n",
    "# You should get the optimal weights and a list of objective values by using gradient_descent function.\n",
    "d = x_train.shape[1]\n",
    "learning_rate = 0.01\n",
    "w = np.zeros((d, 1))\n",
    "# here we are using lam = 1 as regularization parameter. Typical values range from 0.01 to 10.\n",
    "weights_reg_gd, objective_reg_gd = gradient_descent(x_train, y_train, 1, learning_rate, w)"
   ]
  },
  {
   "cell_type": "code",
   "execution_count": 19,
   "metadata": {},
   "outputs": [
    {
     "data": {
      "text/plain": [
       "array([[-0.10506718],\n",
       "       [-0.07353052],\n",
       "       [-0.10589652],\n",
       "       [-0.1007042 ],\n",
       "       [-0.04371891],\n",
       "       [-0.07242819],\n",
       "       [-0.09013714],\n",
       "       [-0.10792781],\n",
       "       [-0.04174307],\n",
       "       [ 0.01501212],\n",
       "       [-0.07768382],\n",
       "       [-0.0007107 ],\n",
       "       [-0.07312157],\n",
       "       [-0.07283979],\n",
       "       [ 0.01272563],\n",
       "       [-0.02334473],\n",
       "       [-0.01449553],\n",
       "       [-0.04409611],\n",
       "       [ 0.00921965],\n",
       "       [ 0.00904501],\n",
       "       [-0.1146355 ],\n",
       "       [-0.08165786],\n",
       "       [-0.1135105 ],\n",
       "       [-0.10636365],\n",
       "       [-0.0617551 ],\n",
       "       [-0.07912337],\n",
       "       [-0.08785943],\n",
       "       [-0.11232844],\n",
       "       [-0.06410717],\n",
       "       [-0.04072895],\n",
       "       [ 0.06528689]])"
      ]
     },
     "execution_count": 19,
     "metadata": {},
     "output_type": "execute_result"
    }
   ],
   "source": [
    "weights_reg_gd"
   ]
  },
  {
   "cell_type": "code",
   "execution_count": 20,
   "metadata": {},
   "outputs": [
    {
     "data": {
      "text/plain": [
       "0.41353932992773285"
      ]
     },
     "execution_count": 20,
     "metadata": {},
     "output_type": "execute_result"
    }
   ],
   "source": [
    "# Finding the minima\n",
    "\n",
    "min(objective_reg_gd)"
   ]
  },
  {
   "cell_type": "markdown",
   "metadata": {},
   "source": [
    "## 3.2. Stochastic gradient descent (SGD)\n",
    "\n",
    "Define new objective function $Q_i (w) = \\log \\Big( 1 + \\exp \\big( - y_i x_i^T w \\big) \\Big) + \\frac{\\lambda}{2} \\| w \\|_2^2 $. \n",
    "\n",
    "The stochastic gradient at $w$ is $g_i = \\frac{\\partial Q_i }{ \\partial w} = -\\frac{y_i x_i }{1 + \\exp ( y_i x_i^T w)} + \\lambda w$.\n",
    "\n",
    "You may need to implement a new function to calculate the new objective function and gradients."
   ]
  },
  {
   "cell_type": "code",
   "execution_count": 21,
   "metadata": {},
   "outputs": [],
   "source": [
    "# Calculate the objective Q_i and the gradient of Q_i\n",
    "# Inputs:\n",
    "#     w: weights: d-by-1 matrix\n",
    "#     xi: data: 1-by-d matrix\n",
    "#     yi: label: scalar\n",
    "#     lam: scalar, the regularization parameter\n",
    "# Return:\n",
    "#     obj: scalar, the objective Q_i\n",
    "#     g: d-by-1 matrix, gradient of Q_i\n",
    "\n",
    "def stochastic_objective_gradient(w, xi, yi, lam):\n",
    "    d = xi.shape[0]\n",
    "    obj = objective(w, xi, yi, lam)\n",
    "    \n",
    "    g_main = -(yi * xi) / (1 + np.exp((yi * xi) @ w))\n",
    "    g_reg = lam * w\n",
    "    g = g_main.reshape((d, 1)) + g_reg\n",
    "    return obj, g"
   ]
  },
  {
   "cell_type": "markdown",
   "metadata": {},
   "source": [
    "Hints:\n",
    "1. In every epoch, randomly permute the $n$ samples.\n",
    "2. Each epoch has $n$ iterations. In every iteration, use 1 sample, and compute the gradient and objective using the ``stochastic_objective_gradient`` function. In the next iteration, use the next sample, and so on."
   ]
  },
  {
   "cell_type": "code",
   "execution_count": 22,
   "metadata": {},
   "outputs": [],
   "source": [
    "# SGD for solving logistic regression\n",
    "# You will need to do iterative process (loops) to obtain optimal weights in this function\n",
    "\n",
    "# Inputs:\n",
    "#     x: data: n-by-d matrix\n",
    "#     y: label: n-by-1 matrix\n",
    "#     lam: scalar, the regularization parameter\n",
    "#     learning_rate: scalar\n",
    "#     w: weights: d-by-1 matrix, initialization of w\n",
    "#     max_epoch: integer, the maximal epochs\n",
    "# Return:\n",
    "#     \n",
    "#     w: weights: d-by-1 matrix, the solution\n",
    "#     objvals: a record of each epoch's objective value\n",
    "#     Record one objective value per epoch (not per iteration)\n",
    "\n",
    "def sgd(x, y, lam, learning_rate, w, max_epoch=100):\n",
    "    n = x.shape[0]\n",
    "    d = x.shape[1]\n",
    "    \n",
    "    obj_vals = np.zeros(max_epoch)\n",
    "    w_temp = np.zeros((max_epoch, d, 1))\n",
    "\n",
    "    for t in range(max_epoch):\n",
    "        curr_obj = 0\n",
    "        \n",
    "        # Randomly selecting a part of the data set\n",
    "        index = np.random.permutation(n)\n",
    "        x_epoch, y_epoch = x[index, :],y[index, :]\n",
    "        \n",
    "        for i in range(n):\n",
    "            xi = x_epoch[i, :]\n",
    "            yi = float(y_epoch[i, :])\n",
    "            obj_iter, grad = stochastic_objective_gradient(w, xi, yi, lam)\n",
    "            curr_obj += obj_iter\n",
    "            w -= learning_rate * grad\n",
    "        \n",
    "        learning_rate *= 0.9\n",
    "        curr_obj = curr_obj/ n\n",
    "        obj_vals[t] = curr_obj\n",
    "        w_temp[t] = w\n",
    "    \n",
    "    w_final = w_temp[np.argmin(obj_vals)]\n",
    "    return w_final, obj_vals"
   ]
  },
  {
   "cell_type": "markdown",
   "metadata": {},
   "source": [
    "Use sgd function to obtain your optimal weights and a list of objective values over each epoch."
   ]
  },
  {
   "cell_type": "code",
   "execution_count": 23,
   "metadata": {},
   "outputs": [
    {
     "name": "stderr",
     "output_type": "stream",
     "text": [
      "/var/folders/3x/l22y8j213vv7scx_kjrcwsb40000gn/T/ipykernel_48576/3520234027.py:33: DeprecationWarning: Conversion of an array with ndim > 0 to a scalar is deprecated, and will error in future. Ensure you extract a single element from your array before performing this operation. (Deprecated NumPy 1.25.)\n",
      "  yi = float(y_epoch[i, :])\n"
     ]
    }
   ],
   "source": [
    "# Train logistic regression\n",
    "# You should get the optimal weights and a list of objective values by using gradient_descent function.\n",
    "learning_rate = 0.1\n",
    "weights_sgd, objective_sgd = sgd(x_train, y_train, 0, learning_rate, w)"
   ]
  },
  {
   "cell_type": "code",
   "execution_count": 24,
   "metadata": {},
   "outputs": [
    {
     "data": {
      "text/plain": [
       "0.051155204175828875"
      ]
     },
     "execution_count": 24,
     "metadata": {},
     "output_type": "execute_result"
    }
   ],
   "source": [
    "min(objective_sgd)"
   ]
  },
  {
   "cell_type": "code",
   "execution_count": 25,
   "metadata": {},
   "outputs": [
    {
     "name": "stderr",
     "output_type": "stream",
     "text": [
      "/var/folders/3x/l22y8j213vv7scx_kjrcwsb40000gn/T/ipykernel_48576/3520234027.py:33: DeprecationWarning: Conversion of an array with ndim > 0 to a scalar is deprecated, and will error in future. Ensure you extract a single element from your array before performing this operation. (Deprecated NumPy 1.25.)\n",
      "  yi = float(y_epoch[i, :])\n"
     ]
    }
   ],
   "source": [
    "# Train regularized logistic regression\n",
    "# You should get the optimal weights and a list of objective values by using gradient_descent function.\n",
    "lam = 0.01\n",
    "learning_rate = 0.1\n",
    "weights_reg_sgd, objective_reg_sgd = sgd(x_train, y_train, lam, learning_rate, w)"
   ]
  },
  {
   "cell_type": "code",
   "execution_count": 26,
   "metadata": {},
   "outputs": [
    {
     "data": {
      "text/plain": [
       "0.10326979833983198"
      ]
     },
     "execution_count": 26,
     "metadata": {},
     "output_type": "execute_result"
    }
   ],
   "source": [
    "min(objective_reg_sgd)"
   ]
  },
  {
   "cell_type": "markdown",
   "metadata": {},
   "source": [
    "## 3.3 Mini-Batch Gradient Descent (MBGD)"
   ]
  },
  {
   "cell_type": "markdown",
   "metadata": {},
   "source": [
    "Define $Q_I (w) = \\frac{1}{b} \\sum_{i \\in I} \\log \\Big( 1 + \\exp \\big( - y_i x_i^T w \\big) \\Big) + \\frac{\\lambda}{2} \\| w \\|_2^2 $, where $I$ is a set containing $b$ indices randomly drawn from $\\{ 1, \\cdots , n \\}$ without replacement.\n",
    "\n",
    "The stochastic gradient at $w$ is $g_I = \\frac{\\partial Q_I }{ \\partial w} = \\frac{1}{b} \\sum_{i \\in I} \\frac{- y_i x_i }{1 + \\exp ( y_i x_i^T w)} + \\lambda w$.\n",
    "\n",
    "You may need to implement a new function to calculate the new objective function and gradients."
   ]
  },
  {
   "cell_type": "code",
   "execution_count": 27,
   "metadata": {},
   "outputs": [],
   "source": [
    "# Calculate the objective Q_I and the gradient of Q_I\n",
    "# Inputs:\n",
    "#     w: weights: d-by-b matrix\n",
    "#     xi: data: b-by-d matrix\n",
    "#     yi: label: scalar\n",
    "#     lam: scalar, the regularization parameter\n",
    "# Return:\n",
    "#     obj: scalar, the objective Q_i\n",
    "#     g: d-by-1 matrix, gradient of Q_i\n",
    "\n",
    "def mb_objective_gradient(w, xi, yi, lam):\n",
    "    b = xi.shape[0]\n",
    "    d = xi.shape[1]\n",
    "    obj = objective(w, xi, yi, lam)\n",
    "    g = gradient(w, xi, yi, lam)\n",
    "    return obj, g"
   ]
  },
  {
   "cell_type": "markdown",
   "metadata": {},
   "source": [
    "Hints:\n",
    "1. In every epoch, randomly permute the $n$ samples (just like SGD).\n",
    "2. Each epoch has $\\frac{n}{b}$ iterations. In every iteration, use $b$ samples, and compute the gradient and objective using the ``mb_objective_gradient`` function. In the next iteration, use the next $b$ samples, and so on."
   ]
  },
  {
   "cell_type": "code",
   "execution_count": 28,
   "metadata": {},
   "outputs": [],
   "source": [
    "# MBGD for solving logistic regression\n",
    "# You will need to do iterative process (loops) to obtain optimal weights in this function\n",
    "\n",
    "# Inputs:\n",
    "#     x: data: n-by-d matrix\n",
    "#     y: label: n-by-1 matrix\n",
    "#     lam: scalar, the regularization parameter\n",
    "#     learning_rate: scalar\n",
    "#     w: weights: d-by-1 matrix, initialization of w\n",
    "#     max_epoch: integer, the maximal epochs\n",
    "# Return:\n",
    "#     w: weights: d-by-1 matrix, the solution\n",
    "#     objvals: a record of each epoch's objective value\n",
    "#     Record one objective value per epoch (not per iteration)\n",
    "\n",
    "def create_batches(size, batch_size):\n",
    "    num_batches = size // batch_size\n",
    "    if (size % batch_size > batch_size // 2):\n",
    "        num_batches += 1\n",
    "    batches = []\n",
    "    \n",
    "    # Randomly permutating the dataset\n",
    "    perm = np.random.permutation(size)\n",
    "    \n",
    "    for i in range(num_batches - 1):\n",
    "        start = i * batch_size\n",
    "        end = (i + 1) * batch_size\n",
    "        batches.append(perm[start: end])\n",
    "    \n",
    "    # Adding remaining items to final batch\n",
    "    batches.append(perm[end:])\n",
    "    return batches\n",
    "\n",
    "def mbgd(x, y, lam, learning_rate, w, max_epoch=100):\n",
    "    n = x.shape[0]\n",
    "    d = x.shape[1]\n",
    "    \n",
    "    batch_size = 10\n",
    "    \n",
    "    obj_vals = np.zeros(max_epoch)\n",
    "    w_temp = np.zeros((max_epoch, d, 1))\n",
    "    \n",
    "    for t in range(max_epoch):\n",
    "        batches = create_batches(n, batch_size)\n",
    "        num_batches = len(batches)\n",
    "        \n",
    "        curr_obj = 0\n",
    "        for i in range(num_batches):\n",
    "            xi = x_train[batches[i], :]\n",
    "            yi = y_train[batches[i], :]\n",
    "            batch_obj, g = mb_objective_gradient(w, xi, yi, lam)\n",
    "            curr_obj += batch_obj\n",
    "            w -= learning_rate * g\n",
    "            \n",
    "        w_temp[t] = w\n",
    "        curr_obj *= batch_size / n\n",
    "        obj_vals[t] = curr_obj\n",
    "        learning_rate *= 0.9\n",
    "\n",
    "    w_final = w_temp[np.argmin(obj_vals)]\n",
    "    return w_final, obj_vals"
   ]
  },
  {
   "cell_type": "markdown",
   "metadata": {},
   "source": [
    "Use mbgd function to obtain your optimal weights and a list of objective values over each epoch."
   ]
  },
  {
   "cell_type": "code",
   "execution_count": 29,
   "metadata": {},
   "outputs": [],
   "source": [
    "# Train logistic regression\n",
    "# You should get the optimal weights and a list of objective values by using gradient_descent function.\n",
    "learning_rate = 0.3\n",
    "weights_mbgd, objective_mbgd = mbgd(x_train, y_train, 0, learning_rate, w)"
   ]
  },
  {
   "cell_type": "code",
   "execution_count": 30,
   "metadata": {},
   "outputs": [
    {
     "data": {
      "text/plain": [
       "0.053231728954023554"
      ]
     },
     "execution_count": 30,
     "metadata": {},
     "output_type": "execute_result"
    }
   ],
   "source": [
    "min(objective_mbgd)"
   ]
  },
  {
   "cell_type": "code",
   "execution_count": 31,
   "metadata": {},
   "outputs": [],
   "source": [
    "# Train regularized logistric regression\n",
    "# You should get the optimal weights and a list of objective values by using gradient_descent function.\n",
    "lam = 0.1\n",
    "learning_rate = 0.3\n",
    "weights_reg_mbgd, objective_reg_mbgd = mbgd(x_train, y_train, lam, learning_rate, w)"
   ]
  },
  {
   "cell_type": "code",
   "execution_count": 32,
   "metadata": {},
   "outputs": [
    {
     "data": {
      "text/plain": [
       "0.20182114071932727"
      ]
     },
     "execution_count": 32,
     "metadata": {},
     "output_type": "execute_result"
    }
   ],
   "source": [
    "min(objective_reg_mbgd)"
   ]
  },
  {
   "cell_type": "markdown",
   "metadata": {},
   "source": [
    "# 4. Compare GD, SGD, MBGD\n",
    "\n",
    "### Plot objective function values against epochs."
   ]
  },
  {
   "cell_type": "code",
   "execution_count": 33,
   "metadata": {},
   "outputs": [
    {
     "data": {
      "image/png": "[encoded data removed]",
      "text/plain": [
       "<Figure size 2000x1200 with 1 Axes>"
      ]
     },
     "metadata": {},
     "output_type": "display_data"
    }
   ],
   "source": [
    "import matplotlib.pyplot as plt\n",
    "%matplotlib inline\n",
    "\n",
    "fig = plt.figure(figsize=(20, 12))\n",
    "\n",
    "epochs_list = range(len(objective_gd))\n",
    "\n",
    "plt.scatter(epochs_list, objective_gd, marker='o', s=30)\n",
    "plt.scatter(epochs_list, objective_reg_gd, marker='o', s=30)\n",
    "plt.scatter(epochs_list, objective_sgd, marker='o', s=30)\n",
    "plt.scatter(epochs_list, objective_reg_sgd, marker='o', s=30)\n",
    "plt.scatter(epochs_list, objective_mbgd, marker='o', s=30)\n",
    "plt.scatter(epochs_list, objective_reg_mbgd, marker='o', s=30)\n",
    "\n",
    "plt.xlabel('Iterations', fontsize=20)\n",
    "plt.ylabel('Objective value', fontsize=20)\n",
    "plt.xticks(range(0, 101, 10), fontsize=15)\n",
    "plt.yticks(fontsize=15)\n",
    "plt.legend(['GD', 'GD (Reg)', 'SGD', 'SGD (Reg)', 'MBGD', 'MBGD (Reg)'], fontsize=20)\n",
    "plt.show()"
   ]
  },
  {
   "cell_type": "markdown",
   "metadata": {},
   "source": [
    "# 5. Prediction\n",
    "### Compare the training and testing accuracy for logistic regression and regularized logistic regression."
   ]
  },
  {
   "cell_type": "code",
   "execution_count": 34,
   "metadata": {},
   "outputs": [],
   "source": [
    "# Predict class label\n",
    "# Inputs:\n",
    "#     w: weights: d-by-1 matrix\n",
    "#     X: data: m-by-d matrix\n",
    "# Return:\n",
    "#     f: m-by-1 matrix, the predictions\n",
    "def predict(w, X):\n",
    "    return np.sign(X @ w)\n",
    "    \n",
    "def error(f,y):\n",
    "    diff = (f != y).astype(int)\n",
    "    error = np.mean(diff)\n",
    "    return error"
   ]
  },
  {
   "cell_type": "code",
   "execution_count": 35,
   "metadata": {},
   "outputs": [
    {
     "name": "stdout",
     "output_type": "stream",
     "text": [
      "Algorithm                                Training Error\n",
      "------------------------------------------------------------\n",
      "Gradient Descent                         0.04395604395604396\n",
      "Stochastic Gradient Descent              0.013186813186813187\n",
      "Mini Batch Gradient Descent              0.013186813186813187\n",
      "Gradient Descent (Regularized)           0.04835164835164835\n",
      "Stochastic Gradient Descent (Regularized) 0.013186813186813187\n",
      "Mini Batch Gradient Descent (Regularized) 0.02197802197802198\n"
     ]
    }
   ],
   "source": [
    "# evaluate training error of logistric regression and regularized version\n",
    "\n",
    "# Using the predict function to get predicted values\n",
    "predictions_train_gd = predict(weights_gd, x_train)\n",
    "# Comparing predictions with actual values and calculating error\n",
    "error_train_gd = error(predictions_train_gd, y_train)\n",
    "\n",
    "predictions_train_reg_gd = predict(weights_reg_gd, x_train)\n",
    "error_train_gd_reg = error(predictions_train_reg_gd, y_train)\n",
    "\n",
    "predictions_train_sgd = predict(weights_sgd, x_train)\n",
    "error_train_sgd = error(predictions_train_sgd, y_train)\n",
    "\n",
    "predictions_train_reg_sgd = predict(weights_reg_sgd, x_train)\n",
    "error_train_sgd_reg = error(predictions_train_reg_sgd, y_train)\n",
    "\n",
    "predictions_train_mbgd = predict(weights_mbgd, x_train)\n",
    "error_train_mbgd = error(predictions_train_mbgd, y_train)\n",
    "\n",
    "predictions_train_reg_mbgd = predict(weights_reg_mbgd, x_train)\n",
    "error_train_mbgd_reg = error(predictions_train_reg_mbgd, y_train)\n",
    "\n",
    "data = [\n",
    "    (\"Gradient Descent\", error_train_gd),\n",
    "    (\"Stochastic Gradient Descent\", error_train_sgd),\n",
    "    (\"Mini Batch Gradient Descent\", error_train_mbgd),\n",
    "    (\"Gradient Descent (Regularized)\", error_train_gd_reg),\n",
    "    (\"Stochastic Gradient Descent (Regularized)\", error_train_sgd_reg),\n",
    "    (\"Mini Batch Gradient Descent (Regularized)\", error_train_mbgd_reg)\n",
    "]\n",
    "\n",
    "print(\"Algorithm                                Training Error\")\n",
    "print(\"-\" * 60)\n",
    "\n",
    "for algorithm, err in data:\n",
    "    print(f\"{algorithm:<40} {err}\")"
   ]
  },
  {
   "cell_type": "code",
   "execution_count": 36,
   "metadata": {},
   "outputs": [
    {
     "data": {
      "image/png": "[encoded data removed]",
      "text/plain": [
       "<Figure size 640x480 with 1 Axes>"
      ]
     },
     "metadata": {},
     "output_type": "display_data"
    }
   ],
   "source": [
    "# Plotting the errors\n",
    "plt.bar(height=error_train_gd, x='GD')\n",
    "plt.bar(height=error_train_gd_reg, x='GD(Reg)')\n",
    "plt.bar(height=error_train_sgd, x='SGD')\n",
    "plt.bar(height=error_train_sgd_reg, x='SGD (Reg)')\n",
    "plt.bar(height=error_train_mbgd, x='MBGD')\n",
    "plt.bar(height=error_train_mbgd_reg, x='MBGD (Reg)')\n",
    "\n",
    "plt.xlabel('Algorithms')\n",
    "plt.ylabel('Training Error')\n",
    "plt.title('Training Errors for Different Gradient Descent Algorithms')\n",
    "plt.xticks(rotation=45)\n",
    "\n",
    "plt.show()"
   ]
  },
  {
   "cell_type": "code",
   "execution_count": 37,
   "metadata": {},
   "outputs": [
    {
     "name": "stdout",
     "output_type": "stream",
     "text": [
      "Algorithm                                Testing Error\n",
      "------------------------------------------------------------\n",
      "Gradient Descent                         0.05263157894736842\n",
      "Stochastic Gradient Descent              0.02631578947368421\n",
      "Mini Batch Gradient Descent              0.02631578947368421\n",
      "Gradient Descent (Regularized)           0.06140350877192982\n",
      "Stochastic Gradient Descent (Regularized) 0.008771929824561403\n",
      "Mini Batch Gradient Descent (Regularized) 0.02631578947368421\n"
     ]
    }
   ],
   "source": [
    "# evaluate testing error of logistric regression and regularized version\n",
    "predictions_test_gd = predict(weights_gd, x_test)\n",
    "error_test_gd = error(predictions_test_gd, y_test)\n",
    "\n",
    "predictions_test_gd_reg = predict(weights_reg_gd, x_test)\n",
    "error_test_gd_reg = error(predictions_test_gd_reg, y_test)\n",
    "\n",
    "predictions_test_sgd = predict(weights_sgd, x_test)\n",
    "error_test_sgd = error(predictions_test_sgd, y_test)\n",
    "\n",
    "predictions_test_sgd_reg = predict(weights_reg_sgd, x_test)\n",
    "error_test_sgd_reg = error(predictions_test_sgd_reg, y_test)\n",
    "\n",
    "predictions_test_mbgd = predict(weights_mbgd, x_test)\n",
    "error_test_mbgd = error(predictions_test_mbgd, y_test)\n",
    "\n",
    "predictions_test_mbgd_reg = predict(weights_reg_mbgd, x_test)\n",
    "error_test_mbgd_reg = error(predictions_test_mbgd_reg, y_test)\n",
    "\n",
    "data = [\n",
    "    (\"Gradient Descent\", error_test_gd),\n",
    "    (\"Stochastic Gradient Descent\", error_test_sgd),\n",
    "    (\"Mini Batch Gradient Descent\", error_test_mbgd),\n",
    "    (\"Gradient Descent (Regularized)\", error_test_gd_reg),\n",
    "    (\"Stochastic Gradient Descent (Regularized)\", error_test_sgd_reg),\n",
    "    (\"Mini Batch Gradient Descent (Regularized)\", error_test_mbgd_reg)\n",
    "]\n",
    "\n",
    "print(\"Algorithm                                Testing Error\")\n",
    "print(\"-\" * 60)\n",
    "\n",
    "for algorithm, err in data:\n",
    "    print(f\"{algorithm:<40} {err}\")"
   ]
  },
  {
   "cell_type": "code",
   "execution_count": 38,
   "metadata": {},
   "outputs": [
    {
     "data": {
      "image/png": "[encoded data removed]",
      "text/plain": [
       "<Figure size 640x480 with 1 Axes>"
      ]
     },
     "metadata": {},
     "output_type": "display_data"
    }
   ],
   "source": [
    "# Plotting the errors\n",
    "plt.bar(height=error_test_gd, x='GD')\n",
    "plt.bar(height=error_test_gd_reg, x='GD(Reg)')\n",
    "plt.bar(height=error_test_sgd, x='SGD')\n",
    "plt.bar(height=error_test_sgd_reg, x='SGD (Reg)')\n",
    "plt.bar(height=error_test_mbgd, x='MBGD')\n",
    "plt.bar(height=error_test_mbgd_reg, x='MBGD (Reg)')\n",
    "\n",
    "plt.xlabel('Algorithms')\n",
    "plt.ylabel('Testing Error')\n",
    "plt.title('Testing Errors for Different Gradient Descent Algorithms')\n",
    "plt.xticks(rotation=45)\n",
    "\n",
    "plt.show()"
   ]
  },
  {
   "cell_type": "markdown",
   "metadata": {},
   "source": [
    "# 6. Parameters tuning"
   ]
  },
  {
   "cell_type": "markdown",
   "metadata": {},
   "source": [
    "### In this section, you may try different combinations of parameters (regularization value, learning rate, etc) to see their effects on the model. (Open ended question)"
   ]
  },
  {
   "cell_type": "code",
   "execution_count": 39,
   "metadata": {},
   "outputs": [
    {
     "name": "stderr",
     "output_type": "stream",
     "text": [
      "/var/folders/3x/l22y8j213vv7scx_kjrcwsb40000gn/T/ipykernel_48576/3520234027.py:33: DeprecationWarning: Conversion of an array with ndim > 0 to a scalar is deprecated, and will error in future. Ensure you extract a single element from your array before performing this operation. (Deprecated NumPy 1.25.)\n",
      "  yi = float(y_epoch[i, :])\n"
     ]
    },
    {
     "name": "stdout",
     "output_type": "stream",
     "text": [
      "Algorithm                                Tuning Error\n",
      "------------------------------------------------------------\n",
      "Gradient Descent                         0.05934065934065934\n",
      "Stochastic Gradient Descent              0.05934065934065934\n",
      "Mini Batch Gradient Descent              0.05934065934065934\n"
     ]
    }
   ],
   "source": [
    "lam = 3\n",
    "learning_rate = 0.10\n",
    "\n",
    "weights_gd, objective_gd = gradient_descent(x_train, y_train, lam, learning_rate, w)\n",
    "weights_sgd, objective_sgd = sgd(x_train, y_train, lam, learning_rate, w)\n",
    "weights_mbgd, objective_mbgd = mbgd(x_train, y_train, lam, learning_rate, w)\n",
    "\n",
    "predictions_gd = predict(weights_gd,x_train)\n",
    "predictions_sgd = predict(weights_sgd,x_train)\n",
    "predictions_mbgd = predict(weights_mbgd,x_train)\n",
    "\n",
    "error_gd = error(predictions_gd, y_train)\n",
    "error_sgd = error(predictions_sgd, y_train)\n",
    "error_mbgd = error(predictions_mbgd, y_train)\n",
    "\n",
    "data = [\n",
    "    (\"Gradient Descent\", error_gd),\n",
    "    (\"Stochastic Gradient Descent\", error_sgd),\n",
    "    (\"Mini Batch Gradient Descent\", error_mbgd),\n",
    "]\n",
    "\n",
    "print(\"Algorithm                                Tuning Error\")\n",
    "print(\"-\" * 60)\n",
    "\n",
    "for algorithm, err in data:\n",
    "    print(f\"{algorithm:<40} {err}\")"
   ]
  },
  {
   "cell_type": "code",
   "execution_count": 40,
   "metadata": {},
   "outputs": [
    {
     "name": "stderr",
     "output_type": "stream",
     "text": [
      "/var/folders/3x/l22y8j213vv7scx_kjrcwsb40000gn/T/ipykernel_48576/3520234027.py:33: DeprecationWarning: Conversion of an array with ndim > 0 to a scalar is deprecated, and will error in future. Ensure you extract a single element from your array before performing this operation. (Deprecated NumPy 1.25.)\n",
      "  yi = float(y_epoch[i, :])\n"
     ]
    },
    {
     "name": "stdout",
     "output_type": "stream",
     "text": [
      "Algorithm                                Tuning Error\n",
      "------------------------------------------------------------\n",
      "Gradient Descent                         0.026373626373626374\n",
      "Stochastic Gradient Descent              0.02197802197802198\n",
      "Mini Batch Gradient Descent              0.02197802197802198\n"
     ]
    }
   ],
   "source": [
    "lam = 0.1\n",
    "learning_rate = 0.1\n",
    "\n",
    "weights_gd, objective_gd = gradient_descent(x_train, y_train, lam, learning_rate, w)\n",
    "weights_sgd, objective_sgd = sgd(x_train, y_train, lam, learning_rate, w)\n",
    "weights_mbgd, objective_mbgd = mbgd(x_train, y_train, lam, learning_rate, w)\n",
    "\n",
    "predictions_gd = predict(weights_gd,x_train)\n",
    "predictions_sgd = predict(weights_sgd,x_train)\n",
    "predictions_mbgd = predict(weights_mbgd,x_train)\n",
    "\n",
    "error_gd = error(predictions_gd, y_train)\n",
    "error_sgd = error(predictions_sgd, y_train)\n",
    "error_mbgd = error(predictions_mbgd, y_train)\n",
    "\n",
    "data = [\n",
    "    (\"Gradient Descent\", error_gd),\n",
    "    (\"Stochastic Gradient Descent\", error_sgd),\n",
    "    (\"Mini Batch Gradient Descent\", error_mbgd),\n",
    "]\n",
    "\n",
    "print(\"Algorithm                                Tuning Error\")\n",
    "print(\"-\" * 60)\n",
    "\n",
    "for algorithm, err in data:\n",
    "    print(f\"{algorithm:<40} {err}\")"
   ]
  },
  {
   "cell_type": "code",
   "execution_count": null,
   "metadata": {},
   "outputs": [],
   "source": []
  }
 ],
 "metadata": {
  "kernelspec": {
   "display_name": "Python 3 (ipykernel)",
   "language": "python",
   "name": "python3"
  },
  "language_info": {
   "codemirror_mode": {
    "name": "ipython",
    "version": 3
   },
   "file_extension": ".py",
   "mimetype": "text/x-python",
   "name": "python",
   "nbconvert_exporter": "python",
   "pygments_lexer": "ipython3",
   "version": "3.10.13"
  }
 },
 "nbformat": 4,
 "nbformat_minor": 2
}

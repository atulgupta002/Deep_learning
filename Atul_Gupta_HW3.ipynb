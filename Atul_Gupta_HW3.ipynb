{
 "cells": [
  {
   "cell_type": "markdown",
   "metadata": {
    "id": "-N8XuizLedCc"
   },
   "source": [
    "# Assignment 3: Build a seq2seq model for machine translation.\n",
    "\n",
    "### Name: Atul Gupta\n",
    "\n",
    "### Task: Change LSTM model to Bidirectional LSTM Model and Translate English to Spanish\n",
    "\n",
    "### Due Date: Wednesday, April 17th, 11:59PM"
   ]
  },
  {
   "cell_type": "markdown",
   "metadata": {
    "id": "hpqnzXTVedCd"
   },
   "source": [
    "## 0. You will do the following:\n",
    "\n",
    "1. Read and run the code. Please make sure you have installed keras or tensorflow.Running the script on colab will speed up the training process and also prevent package loading issue.\n",
    "2. Complete the code in Section 1.1, you may fill in your data directory.\n",
    "3. Directly modify the code in Section 3. Change the current LSTM layer to a Bidirectional LSTM Model.\n",
    "4. Training your model and translate English to Spanish in Section 4.2. You could try translating other languages.\n",
    "5. Complete the code in Section 5."
   ]
  },
  {
   "cell_type": "markdown",
   "metadata": {
    "id": "kJssi6rnedCe"
   },
   "source": [
    "### Hint:\n",
    "\n",
    "To implement ```Bi-LSTM```, you will need the following code to build the encoder **in Section 3**. Do NOT use Bi-LSTM for the decoder. But there are other codes **you need to modify** to make it work."
   ]
  },
  {
   "cell_type": "code",
   "execution_count": 1,
   "metadata": {
    "id": "dglRX36aedCe"
   },
   "outputs": [],
   "source": [
    "# from keras.layers import Bidirectional, Concatenate\n",
    "\n",
    "# encoder_bilstm = Bidirectional(LSTM(latent_dim, return_state=True,\n",
    "#                                   dropout=0.5, name='encoder_lstm'))\n",
    "# _, forward_h, forward_c, backward_h, backward_c = encoder_bilstm(encoder_inputs)\n",
    "\n",
    "# state_h = Concatenate()([forward_h, backward_h])\n",
    "# state_c = Concatenate()([forward_c, backward_c])"
   ]
  },
  {
   "cell_type": "markdown",
   "metadata": {
    "id": "7-Ep4HhDedCe"
   },
   "source": [
    "## 1. Data preparation (10 points)\n",
    "\n",
    "1. Download spanish-english data from http://www.manythings.org/anki/\n",
    "2. You may try to use other languages.\n",
    "3. Unzip the .ZIP file.\n",
    "4. Put the .TXT file (e.g., \"deu.txt\") in the directory \"./Data/\".\n",
    "5. Fill in your data directory in section 1.1."
   ]
  },
  {
   "cell_type": "markdown",
   "metadata": {
    "id": "ZuzKbIFBedCe"
   },
   "source": [
    "### 1.1. Load and clean text\n"
   ]
  },
  {
   "cell_type": "code",
   "execution_count": 2,
   "metadata": {
    "id": "rcInT6gmedCf"
   },
   "outputs": [],
   "source": [
    "import re\n",
    "import string\n",
    "from unicodedata import normalize\n",
    "import numpy\n",
    "\n",
    "# load doc into memory\n",
    "def load_doc(filename):\n",
    "    # open the file as read only\n",
    "    file = open(filename, mode='rt', encoding='utf-8')\n",
    "    # read all text\n",
    "    text = file.read()\n",
    "    # close the file\n",
    "    file.close()\n",
    "    return text\n",
    "\n",
    "\n",
    "# split a loaded document into sentences\n",
    "def to_pairs(doc):\n",
    "    lines = doc.strip().split('\\n')\n",
    "    pairs = [line.split('\\t') for line in  lines]\n",
    "    return pairs\n",
    "\n",
    "def clean_data(lines):\n",
    "    cleaned = list()\n",
    "    # prepare regex for char filtering\n",
    "    re_print = re.compile('[^%s]' % re.escape(string.printable))\n",
    "    # prepare translation table for removing punctuation\n",
    "    table = str.maketrans('', '', string.punctuation)\n",
    "    for pair in lines:\n",
    "        clean_pair = list()\n",
    "        for line in pair:\n",
    "            # normalize unicode characters\n",
    "            line = normalize('NFD', line).encode('ascii', 'ignore')\n",
    "            line = line.decode('UTF-8')\n",
    "            # tokenize on white space\n",
    "            line = line.split()\n",
    "            # convert to lowercase\n",
    "            line = [word.lower() for word in line]\n",
    "            # remove punctuation from each token\n",
    "            line = [word.translate(table) for word in line]\n",
    "            # remove non-printable chars form each token\n",
    "            line = [re_print.sub('', w) for w in line]\n",
    "            # remove tokens with numbers in them\n",
    "            line = [word for word in line if word.isalpha()]\n",
    "            # store as string\n",
    "            clean_pair.append(' '.join(line))\n",
    "        cleaned.append(clean_pair)\n",
    "    return numpy.array(cleaned)"
   ]
  },
  {
   "cell_type": "markdown",
   "metadata": {
    "id": "ChJPgfZBedCf"
   },
   "source": [
    "#### Fill the following blanks:"
   ]
  },
  {
   "cell_type": "code",
   "execution_count": 3,
   "metadata": {
    "id": "pCoHNXwYedCf"
   },
   "outputs": [],
   "source": [
    "# e.g., filename = 'Data/deu.txt'\n",
    "filename = \"/Users/atul/Library/CloudStorage/OneDrive-Personal/Stevens Institute of Technology/Courses/CS 583/HW 3/Data/spa.txt\"\n",
    "\n",
    "# e.g., n_train = 20000\n",
    "n_train = 20000"
   ]
  },
  {
   "cell_type": "code",
   "execution_count": 4,
   "metadata": {
    "id": "pWqZ2Ul5edCf"
   },
   "outputs": [],
   "source": [
    "# load dataset\n",
    "doc = load_doc(filename)\n",
    "\n",
    "# split into Language1-Language2 pairs\n",
    "pairs = to_pairs(doc)\n",
    "\n",
    "# clean sentences\n",
    "clean_pairs = clean_data(pairs)[0:n_train, :]"
   ]
  },
  {
   "cell_type": "code",
   "execution_count": 5,
   "metadata": {
    "id": "Ox-E_ypqedCf"
   },
   "outputs": [
    {
     "name": "stdout",
     "output_type": "stream",
     "text": [
      "[we are here] => [estamos aqui]\n",
      "[we ate eggs] => [hemos comido huevos]\n",
      "[we ate eggs] => [comimos huevos]\n",
      "[we broke up] => [nos separamos]\n",
      "[we broke up] => [lo dejamos]\n",
      "[we broke up] => [rompimos]\n",
      "[we can help] => [podemos ayudar]\n",
      "[we can help] => [nosotros podemos ayudar]\n",
      "[we can meet] => [podemos encontrarnos]\n",
      "[we can meet] => [podemos vernos]\n"
     ]
    }
   ],
   "source": [
    "for i in range(3000, 3010):\n",
    "    print('[' + clean_pairs[i, 0] + '] => [' + clean_pairs[i, 1] + ']')"
   ]
  },
  {
   "cell_type": "code",
   "execution_count": 6,
   "metadata": {
    "id": "JU0LP76redCf"
   },
   "outputs": [
    {
     "name": "stdout",
     "output_type": "stream",
     "text": [
      "Length of input_texts:  (20000,)\n",
      "Length of target_texts: (20000,)\n"
     ]
    }
   ],
   "source": [
    "input_texts = clean_pairs[:, 0]\n",
    "target_texts = ['\\t' + text + '\\n' for text in clean_pairs[:, 1]]\n",
    "\n",
    "print('Length of input_texts:  ' + str(input_texts.shape))\n",
    "print('Length of target_texts: ' + str(input_texts.shape))"
   ]
  },
  {
   "cell_type": "code",
   "execution_count": 7,
   "metadata": {
    "id": "_dCvkueqedCf"
   },
   "outputs": [
    {
     "name": "stdout",
     "output_type": "stream",
     "text": [
      "max length of input  sentences: 18\n",
      "max length of target sentences: 48\n"
     ]
    }
   ],
   "source": [
    "max_encoder_seq_length = max(len(line) for line in input_texts)\n",
    "max_decoder_seq_length = max(len(line) for line in target_texts)\n",
    "\n",
    "print('max length of input  sentences: %d' % (max_encoder_seq_length))\n",
    "print('max length of target sentences: %d' % (max_decoder_seq_length))"
   ]
  },
  {
   "cell_type": "markdown",
   "metadata": {
    "id": "yE04yw06edCf"
   },
   "source": [
    "**Remark:** To this end, you have two lists of sentences: input_texts and target_texts"
   ]
  },
  {
   "cell_type": "markdown",
   "metadata": {
    "id": "z6YdrJhTedCg"
   },
   "source": [
    "## 2. Text processing\n",
    "\n",
    "### 2.1. Convert texts to sequences\n",
    "\n",
    "- Input: A list of $n$ sentences (with max length $t$).\n",
    "- It is represented by a $n\\times t$ matrix after the tokenization and zero-padding."
   ]
  },
  {
   "cell_type": "code",
   "execution_count": 8,
   "metadata": {
    "id": "xT3e3qEXedCg"
   },
   "outputs": [
    {
     "name": "stderr",
     "output_type": "stream",
     "text": [
      "2024-04-17 12:09:46.754502: I tensorflow/core/platform/cpu_feature_guard.cc:193] This TensorFlow binary is optimized with oneAPI Deep Neural Network Library (oneDNN) to use the following CPU instructions in performance-critical operations:  SSE4.1 SSE4.2\n",
      "To enable them in other operations, rebuild TensorFlow with the appropriate compiler flags.\n"
     ]
    },
    {
     "name": "stdout",
     "output_type": "stream",
     "text": [
      "shape of encoder_input_seq: (20000, 18)\n",
      "shape of input_token_index: 27\n",
      "shape of decoder_input_seq: (20000, 48)\n",
      "shape of target_token_index: 29\n"
     ]
    }
   ],
   "source": [
    "from tensorflow.keras.preprocessing.text import Tokenizer\n",
    "from tensorflow.keras.preprocessing.sequence import pad_sequences\n",
    "\n",
    "# encode and pad sequences\n",
    "def text2sequences(max_len, lines):\n",
    "    tokenizer = Tokenizer(char_level=True, filters='')\n",
    "    tokenizer.fit_on_texts(lines)\n",
    "    seqs = tokenizer.texts_to_sequences(lines)\n",
    "    seqs_pad = pad_sequences(seqs, maxlen=max_len, padding='post')\n",
    "    return seqs_pad, tokenizer.word_index\n",
    "\n",
    "\n",
    "encoder_input_seq, input_token_index = text2sequences(max_encoder_seq_length,\n",
    "                                                      input_texts)\n",
    "decoder_input_seq, target_token_index = text2sequences(max_decoder_seq_length,\n",
    "                                                       target_texts)\n",
    "\n",
    "print('shape of encoder_input_seq: ' + str(encoder_input_seq.shape))\n",
    "print('shape of input_token_index: ' + str(len(input_token_index)))\n",
    "print('shape of decoder_input_seq: ' + str(decoder_input_seq.shape))\n",
    "print('shape of target_token_index: ' + str(len(target_token_index)))"
   ]
  },
  {
   "cell_type": "code",
   "execution_count": 9,
   "metadata": {
    "id": "tcPKeQRqedCg"
   },
   "outputs": [
    {
     "name": "stdout",
     "output_type": "stream",
     "text": [
      "num_encoder_tokens: 28\n",
      "num_decoder_tokens: 30\n"
     ]
    }
   ],
   "source": [
    "num_encoder_tokens = len(input_token_index) + 1\n",
    "num_decoder_tokens = len(target_token_index) + 1\n",
    "\n",
    "print('num_encoder_tokens: ' + str(num_encoder_tokens))\n",
    "print('num_decoder_tokens: ' + str(num_decoder_tokens))"
   ]
  },
  {
   "cell_type": "markdown",
   "metadata": {
    "id": "dhoKzMHJedCg"
   },
   "source": [
    "**Remark:** To this end, the input language and target language texts are converted to 2 matrices.\n",
    "\n",
    "- Their number of rows are both n_train.\n",
    "- Their number of columns are respective max_encoder_seq_length and max_decoder_seq_length."
   ]
  },
  {
   "cell_type": "markdown",
   "metadata": {
    "id": "ER0xZXj0edCg"
   },
   "source": [
    "The followings print a sentence and its representation as a sequence."
   ]
  },
  {
   "cell_type": "code",
   "execution_count": 10,
   "metadata": {
    "id": "c-kHFy8fedCg"
   },
   "outputs": [
    {
     "data": {
      "text/plain": [
       "'\\tentendiste\\n'"
      ]
     },
     "execution_count": 10,
     "metadata": {},
     "output_type": "execute_result"
    }
   ],
   "source": [
    "target_texts[100]"
   ]
  },
  {
   "cell_type": "code",
   "execution_count": 11,
   "metadata": {
    "id": "A-3MdSEjedCg"
   },
   "outputs": [
    {
     "data": {
      "text/plain": [
       "array([ 6,  2,  9,  8,  2,  9, 15, 11,  5,  8,  2,  7,  0,  0,  0,  0,  0,\n",
       "        0,  0,  0,  0,  0,  0,  0,  0,  0,  0,  0,  0,  0,  0,  0,  0,  0,\n",
       "        0,  0,  0,  0,  0,  0,  0,  0,  0,  0,  0,  0,  0,  0],\n",
       "      dtype=int32)"
      ]
     },
     "execution_count": 11,
     "metadata": {},
     "output_type": "execute_result"
    }
   ],
   "source": [
    "decoder_input_seq[100, :]"
   ]
  },
  {
   "cell_type": "markdown",
   "metadata": {
    "id": "ntQXp03iedCg"
   },
   "source": [
    "## 2.2. One-hot encode\n",
    "\n",
    "- Input: A list of $n$ sentences (with max length $t$).\n",
    "- It is represented by a $n\\times t$ matrix after the tokenization and zero-padding.\n",
    "- It is represented by a $n\\times t \\times v$ tensor ($t$ is the number of unique chars) after the one-hot encoding."
   ]
  },
  {
   "cell_type": "code",
   "execution_count": 12,
   "metadata": {
    "id": "RSg79wQZedCg"
   },
   "outputs": [
    {
     "name": "stdout",
     "output_type": "stream",
     "text": [
      "(20000, 18, 28)\n",
      "(20000, 48, 30)\n"
     ]
    }
   ],
   "source": [
    "from tensorflow.keras.utils import to_categorical\n",
    "\n",
    "# one hot encode target sequence\n",
    "def onehot_encode(sequences, max_len, vocab_size):\n",
    "    n = len(sequences)\n",
    "    data = numpy.zeros((n, max_len, vocab_size))\n",
    "    for i in range(n):\n",
    "        data[i, :, :] = to_categorical(sequences[i], num_classes=vocab_size)\n",
    "    return data\n",
    "\n",
    "encoder_input_data = onehot_encode(encoder_input_seq, max_encoder_seq_length, num_encoder_tokens)\n",
    "decoder_input_data = onehot_encode(decoder_input_seq, max_decoder_seq_length, num_decoder_tokens)\n",
    "\n",
    "decoder_target_seq = numpy.zeros(decoder_input_seq.shape)\n",
    "decoder_target_seq[:, 0:-1] = decoder_input_seq[:, 1:]\n",
    "decoder_target_data = onehot_encode(decoder_target_seq,\n",
    "                                    max_decoder_seq_length,\n",
    "                                    num_decoder_tokens)\n",
    "\n",
    "print(encoder_input_data.shape)\n",
    "print(decoder_input_data.shape)"
   ]
  },
  {
   "cell_type": "markdown",
   "metadata": {
    "id": "xsPca3ARedCg"
   },
   "source": [
    "## 3. Build the networks (for training) (20 points)\n",
    "\n",
    "- In this section, we have already implemented the LSTM model for you. You can run the code and see what the code is doing.  \n",
    "\n",
    "- **You need to change the existing LSTM model to a Bidirectional LSTM model. Just modify the network structure and do not change the training cell in section 3.4.**\n",
    "\n",
    "- Build encoder, decoder, and connect the two modules to get \"model\".\n",
    "\n",
    "- Fit the model on the bilingual data to train the parameters in the encoder and decoder.\n",
    "\n"
   ]
  },
  {
   "cell_type": "markdown",
   "metadata": {
    "id": "nXA8VeQTedCg"
   },
   "source": [
    "### 3.1. Encoder network\n",
    "\n",
    "- Input:  one-hot encode of the input language\n",
    "\n",
    "- Return:\n",
    "\n",
    "    -- output (all the hidden states   $h_1, \\cdots , h_t$) are always discarded\n",
    "    \n",
    "    -- the final hidden state  $h_t$\n",
    "    \n",
    "    -- the final conveyor belt $c_t$"
   ]
  },
  {
   "cell_type": "code",
   "execution_count": 13,
   "metadata": {
    "id": "iWSGCibbedCh"
   },
   "outputs": [
    {
     "name": "stderr",
     "output_type": "stream",
     "text": [
      "2024-04-17 12:09:51.086152: I tensorflow/core/platform/cpu_feature_guard.cc:193] This TensorFlow binary is optimized with oneAPI Deep Neural Network Library (oneDNN) to use the following CPU instructions in performance-critical operations:  SSE4.1 SSE4.2\n",
      "To enable them in other operations, rebuild TensorFlow with the appropriate compiler flags.\n"
     ]
    }
   ],
   "source": [
    "from tensorflow.keras.layers import Input, LSTM, Bidirectional, Concatenate\n",
    "from tensorflow.keras.models import Model\n",
    "\n",
    "latent_dim = 256\n",
    "\n",
    "# inputs of the encoder network\n",
    "encoder_inputs = Input(shape=(None, num_encoder_tokens),\n",
    "                       name='encoder_inputs')\n",
    "\n",
    "# # set the LSTM layer\n",
    "# encoder_lstm = LSTM(latent_dim, return_state=True,\n",
    "#                     dropout=0.5, name='encoder_lstm')\n",
    "# _, state_h, state_c = encoder_lstm(encoder_inputs)\n",
    "\n",
    "encoder_bilstm = Bidirectional(LSTM(latent_dim, return_state=True, \n",
    "                                  dropout=0.5, name='encoder_lstm'))\n",
    "_, forward_h, forward_c, backward_h, backward_c = encoder_bilstm(encoder_inputs)\n",
    "\n",
    "state_h = Concatenate()([forward_h, backward_h])\n",
    "state_c = Concatenate()([forward_c, backward_c])\n",
    "\n",
    "# build the encoder network model\n",
    "encoder_model = Model(inputs=encoder_inputs,\n",
    "                      outputs=[state_h, state_c],\n",
    "                      name='encoder')"
   ]
  },
  {
   "cell_type": "markdown",
   "metadata": {
    "id": "SBBFxciGedCh"
   },
   "source": [
    "Print a summary and save the encoder network structure to \"./encoder.pdf\""
   ]
  },
  {
   "cell_type": "code",
   "execution_count": 14,
   "metadata": {
    "id": "S-0dROLFedCh"
   },
   "outputs": [
    {
     "name": "stdout",
     "output_type": "stream",
     "text": [
      "Model: \"encoder\"\n",
      "__________________________________________________________________________________________________\n",
      " Layer (type)                   Output Shape         Param #     Connected to                     \n",
      "==================================================================================================\n",
      " encoder_inputs (InputLayer)    [(None, None, 28)]   0           []                               \n",
      "                                                                                                  \n",
      " bidirectional (Bidirectional)  [(None, 512),        583680      ['encoder_inputs[0][0]']         \n",
      "                                 (None, 256),                                                     \n",
      "                                 (None, 256),                                                     \n",
      "                                 (None, 256),                                                     \n",
      "                                 (None, 256)]                                                     \n",
      "                                                                                                  \n",
      " concatenate (Concatenate)      (None, 512)          0           ['bidirectional[0][1]',          \n",
      "                                                                  'bidirectional[0][3]']          \n",
      "                                                                                                  \n",
      " concatenate_1 (Concatenate)    (None, 512)          0           ['bidirectional[0][2]',          \n",
      "                                                                  'bidirectional[0][4]']          \n",
      "                                                                                                  \n",
      "==================================================================================================\n",
      "Total params: 583,680\n",
      "Trainable params: 583,680\n",
      "Non-trainable params: 0\n",
      "__________________________________________________________________________________________________\n"
     ]
    }
   ],
   "source": [
    "from IPython.display import SVG\n",
    "from keras.utils import model_to_dot, plot_model\n",
    "\n",
    "SVG(model_to_dot(encoder_model, show_shapes=False).create(prog='dot', format='svg'))\n",
    "\n",
    "plot_model(\n",
    "    model=encoder_model, show_shapes=False,\n",
    "    to_file='encoder.pdf'\n",
    ")\n",
    "\n",
    "encoder_model.summary()"
   ]
  },
  {
   "cell_type": "markdown",
   "metadata": {
    "id": "Bu24I0tIedCh"
   },
   "source": [
    "### 3.2. Decoder network\n",
    "\n",
    "- Inputs:  \n",
    "\n",
    "    -- one-hot encode of the target language\n",
    "    \n",
    "    -- The initial hidden state $h_t$\n",
    "    \n",
    "    -- The initial conveyor belt $c_t$\n",
    "\n",
    "- Return:\n",
    "\n",
    "    -- output (all the hidden states) $h_1, \\cdots , h_t$\n",
    "\n",
    "    -- the final hidden state  $h_t$ (discarded in the training and used in the prediction)\n",
    "    \n",
    "    -- the final conveyor belt $c_t$ (discarded in the training and used in the prediction)"
   ]
  },
  {
   "cell_type": "code",
   "execution_count": 15,
   "metadata": {
    "id": "PaiRZWG9edCh"
   },
   "outputs": [],
   "source": [
    "from tensorflow.keras.layers import Input, LSTM, Dense\n",
    "from tensorflow.keras.models import Model\n",
    "\n",
    "latent_dim = 512\n",
    "\n",
    "# inputs of the decoder network\n",
    "decoder_input_h = Input(shape=(latent_dim,), name='decoder_input_h')\n",
    "decoder_input_c = Input(shape=(latent_dim,), name='decoder_input_c')\n",
    "decoder_input_x = Input(shape=(None, num_decoder_tokens), name='decoder_input_x')\n",
    "\n",
    "# set the LSTM layer\n",
    "decoder_lstm = LSTM(latent_dim, return_sequences=True,\n",
    "                    return_state=True, dropout=0.5, name='decoder_lstm')\n",
    "decoder_lstm_outputs, state_h, state_c = decoder_lstm(decoder_input_x,\n",
    "                                                      initial_state=[decoder_input_h, decoder_input_c])\n",
    "\n",
    "# set the dense layer\n",
    "decoder_dense = Dense(num_decoder_tokens, activation='softmax', name='decoder_dense')\n",
    "decoder_outputs = decoder_dense(decoder_lstm_outputs)\n",
    "\n",
    "# build the decoder network model\n",
    "decoder_model = Model(inputs=[decoder_input_x, decoder_input_h, decoder_input_c],\n",
    "                      outputs=[decoder_outputs, state_h, state_c],\n",
    "                      name='decoder')"
   ]
  },
  {
   "cell_type": "markdown",
   "metadata": {
    "id": "1vDWdyNtedCh"
   },
   "source": [
    "Print a summary and save the encoder network structure to \"./decoder.pdf\""
   ]
  },
  {
   "cell_type": "code",
   "execution_count": 16,
   "metadata": {
    "id": "B2Jo7bPyedCh"
   },
   "outputs": [
    {
     "name": "stdout",
     "output_type": "stream",
     "text": [
      "Model: \"decoder\"\n",
      "__________________________________________________________________________________________________\n",
      " Layer (type)                   Output Shape         Param #     Connected to                     \n",
      "==================================================================================================\n",
      " decoder_input_x (InputLayer)   [(None, None, 30)]   0           []                               \n",
      "                                                                                                  \n",
      " decoder_input_h (InputLayer)   [(None, 512)]        0           []                               \n",
      "                                                                                                  \n",
      " decoder_input_c (InputLayer)   [(None, 512)]        0           []                               \n",
      "                                                                                                  \n",
      " decoder_lstm (LSTM)            [(None, None, 512),  1112064     ['decoder_input_x[0][0]',        \n",
      "                                 (None, 512),                     'decoder_input_h[0][0]',        \n",
      "                                 (None, 512)]                     'decoder_input_c[0][0]']        \n",
      "                                                                                                  \n",
      " decoder_dense (Dense)          (None, None, 30)     15390       ['decoder_lstm[0][0]']           \n",
      "                                                                                                  \n",
      "==================================================================================================\n",
      "Total params: 1,127,454\n",
      "Trainable params: 1,127,454\n",
      "Non-trainable params: 0\n",
      "__________________________________________________________________________________________________\n"
     ]
    }
   ],
   "source": [
    "from IPython.display import SVG\n",
    "from keras.utils import model_to_dot, plot_model\n",
    "\n",
    "SVG(model_to_dot(decoder_model, show_shapes=False).create(prog='dot', format='svg'))\n",
    "\n",
    "plot_model(\n",
    "    model=decoder_model, show_shapes=False,\n",
    "    to_file='decoder.pdf'\n",
    ")\n",
    "\n",
    "decoder_model.summary()"
   ]
  },
  {
   "cell_type": "markdown",
   "metadata": {
    "id": "wOtU5CtEedCh"
   },
   "source": [
    "### 3.3. Connect the encoder and decoder"
   ]
  },
  {
   "cell_type": "code",
   "execution_count": 17,
   "metadata": {
    "id": "wkDfv0W6edCi"
   },
   "outputs": [],
   "source": [
    "# input layers\n",
    "encoder_input_x = Input(shape=(None, num_encoder_tokens), name='encoder_input_x')\n",
    "decoder_input_x = Input(shape=(None, num_decoder_tokens), name='decoder_input_x')\n",
    "\n",
    "# connect encoder to decoder\n",
    "encoder_final_states = encoder_model([encoder_input_x])\n",
    "decoder_lstm_output, _, _ = decoder_lstm(decoder_input_x, initial_state=encoder_final_states)\n",
    "decoder_pred = decoder_dense(decoder_lstm_output)\n",
    "\n",
    "model = Model(inputs=[encoder_input_x, decoder_input_x],\n",
    "              outputs=decoder_pred,\n",
    "              name='model_training')"
   ]
  },
  {
   "cell_type": "code",
   "execution_count": 18,
   "metadata": {
    "id": "ZiFx6us1edCi"
   },
   "outputs": [
    {
     "name": "stdout",
     "output_type": "stream",
     "text": [
      "Model: \"model_training\"\n",
      "__________________________________________________________________________________________________\n",
      " Layer (type)                   Output Shape         Param #     Connected to                     \n",
      "==================================================================================================\n",
      " encoder_input_x (InputLayer)   [(None, None, 28)]   0           []                               \n",
      "                                                                                                  \n",
      " decoder_input_x (InputLayer)   [(None, None, 30)]   0           []                               \n",
      "                                                                                                  \n",
      " encoder (Functional)           [(None, 512),        583680      ['encoder_input_x[0][0]']        \n",
      "                                 (None, 512)]                                                     \n",
      "                                                                                                  \n",
      " decoder_lstm (LSTM)            [(None, None, 512),  1112064     ['decoder_input_x[0][0]',        \n",
      "                                 (None, 512),                     'encoder[0][0]',                \n",
      "                                 (None, 512)]                     'encoder[0][1]']                \n",
      "                                                                                                  \n",
      " decoder_dense (Dense)          (None, None, 30)     15390       ['decoder_lstm[1][0]']           \n",
      "                                                                                                  \n",
      "==================================================================================================\n",
      "Total params: 1,711,134\n",
      "Trainable params: 1,711,134\n",
      "Non-trainable params: 0\n",
      "__________________________________________________________________________________________________\n"
     ]
    }
   ],
   "source": [
    "from IPython.display import SVG\n",
    "from keras.utils import model_to_dot, plot_model\n",
    "\n",
    "SVG(model_to_dot(model, show_shapes=False).create(prog='dot', format='svg'))\n",
    "\n",
    "plot_model(\n",
    "    model=model, show_shapes=False,\n",
    "    to_file='model_training.pdf'\n",
    ")\n",
    "\n",
    "model.summary()"
   ]
  },
  {
   "cell_type": "markdown",
   "metadata": {
    "id": "q8EfV2uWedCi"
   },
   "source": [
    "### 3.4. Fit the model on the bilingual dataset\n",
    "\n",
    "- encoder_input_data: one-hot encode of the input language\n",
    "\n",
    "- decoder_input_data: one-hot encode of the input language\n",
    "\n",
    "- decoder_target_data: labels (left shift of decoder_input_data)\n",
    "\n",
    "- tune the hyper-parameters\n",
    "\n",
    "- stop when the validation loss stop decreasing."
   ]
  },
  {
   "cell_type": "code",
   "execution_count": 19,
   "metadata": {
    "id": "QodbY073edCi"
   },
   "outputs": [
    {
     "name": "stdout",
     "output_type": "stream",
     "text": [
      "shape of encoder_input_data(20000, 18, 28)\n",
      "shape of decoder_input_data(20000, 48, 30)\n",
      "shape of decoder_target_data(20000, 48, 30)\n"
     ]
    }
   ],
   "source": [
    "print('shape of encoder_input_data' + str(encoder_input_data.shape))\n",
    "print('shape of decoder_input_data' + str(decoder_input_data.shape))\n",
    "print('shape of decoder_target_data' + str(decoder_target_data.shape))"
   ]
  },
  {
   "cell_type": "code",
   "execution_count": 20,
   "metadata": {},
   "outputs": [
    {
     "name": "stdout",
     "output_type": "stream",
     "text": [
      "Note: you may need to restart the kernel to use updated packages.\n"
     ]
    }
   ],
   "source": [
    "pip install -q -U keras-tuner"
   ]
  },
  {
   "cell_type": "code",
   "execution_count": 21,
   "metadata": {},
   "outputs": [],
   "source": [
    "from tensorflow import keras\n",
    "\n",
    "def model_builder(hp):\n",
    "\n",
    "    model = Model(inputs=[encoder_input_x, decoder_input_x], \n",
    "                outputs=decoder_pred, \n",
    "                name='model_training')\n",
    "  \n",
    "    hp_learning_rate = hp.Choice('learning_rate', values=[1e-2, 1e-3, 1e-4])\n",
    "    hp_optimizer = hp.Choice('optimizer', values=['adam', 'rmsprop', 'sgd', 'adagrad', 'adamax'])\n",
    "\n",
    "    optimizer = {\n",
    "        'adam':keras.optimizers.Adam(learning_rate=hp_learning_rate),\n",
    "        'rmsprop': keras.optimizers.RMSprop(learning_rate=hp_learning_rate),\n",
    "        'sgd': keras.optimizers.SGD(learning_rate=hp_learning_rate),\n",
    "        'adagrad': keras.optimizers.Adagrad(learning_rate=hp_learning_rate),\n",
    "        'adamax': keras.optimizers.Adamax(learning_rate=hp_learning_rate)\n",
    "    }[hp_optimizer]\n",
    "\n",
    "    model.compile(optimizer=optimizer, loss='categorical_crossentropy')\n",
    "\n",
    "    return model"
   ]
  },
  {
   "cell_type": "code",
   "execution_count": 22,
   "metadata": {},
   "outputs": [],
   "source": [
    "import keras_tuner as kt\n",
    "tuner = kt.Hyperband(model_builder,\n",
    "                     objective='val_loss',\n",
    "                     max_epochs=50,\n",
    "                     factor=3,\n",
    "                     directory='model_dir',\n",
    "                     project_name='test5')\n",
    "\n",
    "stop_early = keras.callbacks.EarlyStopping(monitor='val_loss', patience=5, verbose=1, mode='auto')"
   ]
  },
  {
   "cell_type": "code",
   "execution_count": 23,
   "metadata": {},
   "outputs": [],
   "source": [
    "from tensorflow import keras\n",
    "model.compile(optimizer=keras.optimizers.Adam(learning_rate=0.001), loss='categorical_crossentropy')\n",
    "\n",
    "model.save_weights('model_weights.h5')"
   ]
  },
  {
   "cell_type": "code",
   "execution_count": 24,
   "metadata": {
    "id": "aq-ljb-TedCi"
   },
   "outputs": [
    {
     "name": "stdout",
     "output_type": "stream",
     "text": [
      "Epoch 1/50\n",
      "250/250 [==============================] - 86s 334ms/step - loss: 1.0289 - val_loss: 0.9562\n",
      "Epoch 2/50\n",
      "250/250 [==============================] - 96s 385ms/step - loss: 0.8287 - val_loss: 0.8623\n",
      "Epoch 3/50\n",
      "250/250 [==============================] - 97s 389ms/step - loss: 0.7921 - val_loss: 0.8157\n",
      "Epoch 4/50\n",
      "250/250 [==============================] - 99s 397ms/step - loss: 0.7647 - val_loss: 0.7822\n",
      "Epoch 5/50\n",
      "250/250 [==============================] - 97s 388ms/step - loss: 0.7400 - val_loss: 0.7510\n",
      "Epoch 6/50\n",
      "250/250 [==============================] - 98s 392ms/step - loss: 0.7202 - val_loss: 0.7172\n",
      "Epoch 7/50\n",
      "250/250 [==============================] - 96s 384ms/step - loss: 0.7011 - val_loss: 0.6948\n",
      "Epoch 8/50\n",
      "250/250 [==============================] - 107s 427ms/step - loss: 0.6822 - val_loss: 0.6740\n",
      "Epoch 9/50\n",
      "250/250 [==============================] - 101s 402ms/step - loss: 0.6673 - val_loss: 0.6507\n",
      "Epoch 10/50\n",
      "250/250 [==============================] - 101s 404ms/step - loss: 0.6538 - val_loss: 0.6390\n",
      "Epoch 11/50\n",
      "250/250 [==============================] - 101s 404ms/step - loss: 0.6413 - val_loss: 0.6259\n",
      "Epoch 12/50\n",
      "250/250 [==============================] - 100s 400ms/step - loss: 0.6274 - val_loss: 0.6073\n",
      "Epoch 13/50\n",
      "250/250 [==============================] - 94s 375ms/step - loss: 0.6180 - val_loss: 0.5977\n",
      "Epoch 14/50\n",
      "250/250 [==============================] - 93s 374ms/step - loss: 0.6068 - val_loss: 0.5874\n",
      "Epoch 15/50\n",
      "250/250 [==============================] - 94s 377ms/step - loss: 0.5952 - val_loss: 0.5786\n",
      "Epoch 16/50\n",
      "250/250 [==============================] - 94s 377ms/step - loss: 0.5858 - val_loss: 0.5677\n",
      "Epoch 17/50\n",
      "250/250 [==============================] - 98s 394ms/step - loss: 0.5769 - val_loss: 0.5600\n",
      "Epoch 18/50\n",
      "250/250 [==============================] - 98s 392ms/step - loss: 0.5686 - val_loss: 0.5506\n",
      "Epoch 19/50\n",
      "250/250 [==============================] - 103s 411ms/step - loss: 0.5580 - val_loss: 0.5473\n",
      "Epoch 20/50\n",
      "250/250 [==============================] - 100s 399ms/step - loss: 0.5539 - val_loss: 0.5417\n",
      "Epoch 21/50\n",
      "250/250 [==============================] - 99s 395ms/step - loss: 0.5433 - val_loss: 0.5299\n",
      "Epoch 22/50\n",
      "250/250 [==============================] - 103s 410ms/step - loss: 0.5361 - val_loss: 0.5254\n",
      "Epoch 23/50\n",
      "250/250 [==============================] - 98s 392ms/step - loss: 0.5294 - val_loss: 0.5235\n",
      "Epoch 24/50\n",
      "250/250 [==============================] - 94s 378ms/step - loss: 0.5227 - val_loss: 0.5177\n",
      "Epoch 25/50\n",
      "250/250 [==============================] - 96s 384ms/step - loss: 0.5188 - val_loss: 0.5186\n",
      "Epoch 26/50\n",
      "250/250 [==============================] - 99s 397ms/step - loss: 0.5128 - val_loss: 0.5106\n",
      "Epoch 27/50\n",
      "250/250 [==============================] - 119s 476ms/step - loss: 0.5068 - val_loss: 0.5039\n",
      "Epoch 28/50\n",
      "250/250 [==============================] - 102s 406ms/step - loss: 0.5014 - val_loss: 0.5057\n",
      "Epoch 29/50\n",
      "250/250 [==============================] - 102s 407ms/step - loss: 0.4956 - val_loss: 0.5067\n",
      "Epoch 30/50\n",
      "250/250 [==============================] - 109s 435ms/step - loss: 0.4914 - val_loss: 0.4986\n",
      "Epoch 31/50\n",
      "250/250 [==============================] - 100s 402ms/step - loss: 0.4855 - val_loss: 0.4964\n",
      "Epoch 32/50\n",
      "250/250 [==============================] - 100s 399ms/step - loss: 0.4812 - val_loss: 0.4920\n",
      "Epoch 33/50\n",
      "250/250 [==============================] - 102s 406ms/step - loss: 0.4793 - val_loss: 0.4937\n",
      "Epoch 34/50\n",
      "250/250 [==============================] - 90s 359ms/step - loss: 0.4734 - val_loss: 0.4923\n",
      "Epoch 35/50\n",
      "250/250 [==============================] - 84s 335ms/step - loss: 0.4680 - val_loss: 0.4912\n",
      "Epoch 36/50\n",
      "250/250 [==============================] - 84s 338ms/step - loss: 0.4646 - val_loss: 0.4884\n",
      "Epoch 37/50\n",
      "250/250 [==============================] - 85s 341ms/step - loss: 0.4613 - val_loss: 0.4882\n",
      "Epoch 38/50\n",
      "250/250 [==============================] - 88s 352ms/step - loss: 0.4572 - val_loss: 0.4873\n",
      "Epoch 39/50\n",
      "250/250 [==============================] - 85s 341ms/step - loss: 0.4558 - val_loss: 0.4861\n",
      "Epoch 40/50\n",
      "250/250 [==============================] - 83s 331ms/step - loss: 0.4501 - val_loss: 0.4864\n",
      "Epoch 41/50\n",
      "250/250 [==============================] - 83s 332ms/step - loss: 0.4481 - val_loss: 0.4836\n",
      "Epoch 42/50\n",
      "250/250 [==============================] - 82s 329ms/step - loss: 0.4436 - val_loss: 0.4826\n",
      "Epoch 43/50\n",
      "250/250 [==============================] - 82s 329ms/step - loss: 0.4385 - val_loss: 0.4805\n",
      "Epoch 44/50\n",
      "250/250 [==============================] - 84s 337ms/step - loss: 0.4377 - val_loss: 0.4862\n",
      "Epoch 45/50\n",
      "250/250 [==============================] - 85s 339ms/step - loss: 0.4356 - val_loss: 0.4785\n",
      "Epoch 46/50\n",
      "250/250 [==============================] - 85s 340ms/step - loss: 0.4311 - val_loss: 0.4812\n",
      "Epoch 47/50\n",
      "250/250 [==============================] - 85s 340ms/step - loss: 0.4293 - val_loss: 0.4790\n",
      "Epoch 48/50\n",
      "250/250 [==============================] - 83s 333ms/step - loss: 0.4263 - val_loss: 0.4809\n",
      "Epoch 49/50\n",
      "250/250 [==============================] - 85s 338ms/step - loss: 0.4239 - val_loss: 0.4771\n",
      "Epoch 50/50\n",
      "250/250 [==============================] - 85s 340ms/step - loss: 0.4216 - val_loss: 0.4811\n"
     ]
    }
   ],
   "source": [
    "# model.compile(optimizer='rmsprop', loss='categorical_crossentropy')\n",
    "stop_early = keras.callbacks.EarlyStopping(monitor='val_loss', patience=5, verbose=1, mode='auto')\n",
    "history = model.fit([encoder_input_data, decoder_input_data],  # training data\n",
    "          decoder_target_data,                       # labels (left shift of the target sequences)\n",
    "          batch_size=64, epochs=50, validation_split=0.2)\n",
    "\n",
    "model.save('seq2seq.h5')"
   ]
  },
  {
   "cell_type": "code",
   "execution_count": 25,
   "metadata": {},
   "outputs": [
    {
     "name": "stdout",
     "output_type": "stream",
     "text": [
      "Min val loss: 0\n",
      "Best epoch: 49\n"
     ]
    }
   ],
   "source": [
    "val_loss_per_epoch = history.history['val_loss']\n",
    "best_epoch = val_loss_per_epoch.index(min(val_loss_per_epoch)) + 1\n",
    "\n",
    "print('Min val loss: %d' % (min(val_loss_per_epoch)))\n",
    "print('Best epoch: %d' % (best_epoch,))"
   ]
  },
  {
   "cell_type": "markdown",
   "metadata": {
    "id": "yIHRh9L3edCi"
   },
   "source": [
    "## 4. Make predictions\n",
    "\n",
    "- In this section, you need to complete section 4.2 to translate English to the target language.\n",
    "\n",
    "\n",
    "### 4.1. Translate English to XXX\n",
    "\n",
    "1. Encoder read a sentence (source language) and output its final states, $h_t$ and $c_t$.\n",
    "2. Take the [star] sign \"\\t\" and the final state $h_t$ and $c_t$ as input and run the decoder.\n",
    "3. Get the new states and predicted probability distribution.\n",
    "4. sample a char from the predicted probability distribution\n",
    "5. take the sampled char and the new states as input and repeat the process (stop if reach the [stop] sign \"\\n\")."
   ]
  },
  {
   "cell_type": "code",
   "execution_count": 26,
   "metadata": {
    "id": "Jaq68T6EedCi"
   },
   "outputs": [],
   "source": [
    "# Reverse-lookup token index to decode sequences back to something readable.\n",
    "reverse_input_char_index = dict((i, char) for char, i in input_token_index.items())\n",
    "reverse_target_char_index = dict((i, char) for char, i in target_token_index.items())"
   ]
  },
  {
   "cell_type": "code",
   "execution_count": 27,
   "metadata": {
    "id": "-tjCXNCredCj"
   },
   "outputs": [],
   "source": [
    "def decode_sequence(input_seq):\n",
    "    states_value = encoder_model.predict(input_seq)\n",
    "\n",
    "    target_seq = numpy.zeros((1, 1, num_decoder_tokens))\n",
    "    target_seq[0, 0, target_token_index['\\t']] = 1.\n",
    "\n",
    "    stop_condition = False\n",
    "    decoded_sentence = ''\n",
    "    while not stop_condition:\n",
    "        output_tokens, h, c = decoder_model.predict([target_seq] + states_value)\n",
    "\n",
    "        # this line of code is greedy selection\n",
    "        # try to use multinomial sampling instead (with temperature)\n",
    "        sampled_token_index = numpy.argmax(output_tokens[0, -1, :])\n",
    "\n",
    "        sampled_char = reverse_target_char_index[sampled_token_index]\n",
    "        decoded_sentence += sampled_char\n",
    "\n",
    "        if (sampled_char == '\\n' or\n",
    "           len(decoded_sentence) > max_decoder_seq_length):\n",
    "            stop_condition = True\n",
    "\n",
    "        target_seq = numpy.zeros((1, 1, num_decoder_tokens))\n",
    "        target_seq[0, 0, sampled_token_index] = 1.\n",
    "\n",
    "        states_value = [h, c]\n",
    "\n",
    "    return decoded_sentence\n"
   ]
  },
  {
   "cell_type": "code",
   "execution_count": 28,
   "metadata": {
    "id": "_OzAQb9FedCj"
   },
   "outputs": [
    {
     "name": "stdout",
     "output_type": "stream",
     "text": [
      "1/1 [==============================] - 1s 739ms/step\n",
      "1/1 [==============================] - 0s 323ms/step\n",
      "1/1 [==============================] - 0s 21ms/step\n",
      "1/1 [==============================] - 0s 20ms/step\n",
      "1/1 [==============================] - 0s 20ms/step\n",
      "1/1 [==============================] - 0s 20ms/step\n",
      "1/1 [==============================] - 0s 21ms/step\n",
      "1/1 [==============================] - 0s 22ms/step\n",
      "1/1 [==============================] - 0s 24ms/step\n",
      "1/1 [==============================] - 0s 21ms/step\n",
      "1/1 [==============================] - 0s 21ms/step\n",
      "1/1 [==============================] - 0s 22ms/step\n",
      "-\n",
      "English:        come see me\n",
      "Spanish (true):  venid a verme\n",
      "Spanish (pred):  ven a casa\n",
      "1/1 [==============================] - 0s 19ms/step\n",
      "1/1 [==============================] - 0s 19ms/step\n",
      "1/1 [==============================] - 0s 20ms/step\n",
      "1/1 [==============================] - 0s 22ms/step\n",
      "1/1 [==============================] - 0s 20ms/step\n",
      "1/1 [==============================] - 0s 20ms/step\n",
      "1/1 [==============================] - 0s 20ms/step\n",
      "1/1 [==============================] - 0s 20ms/step\n",
      "1/1 [==============================] - 0s 19ms/step\n",
      "1/1 [==============================] - 0s 19ms/step\n",
      "1/1 [==============================] - 0s 19ms/step\n",
      "1/1 [==============================] - 0s 19ms/step\n",
      "-\n",
      "English:        come see me\n",
      "Spanish (true):  vengan a verme\n",
      "Spanish (pred):  ven a casa\n",
      "1/1 [==============================] - 0s 22ms/step\n",
      "1/1 [==============================] - 0s 20ms/step\n",
      "1/1 [==============================] - 0s 19ms/step\n",
      "1/1 [==============================] - 0s 19ms/step\n",
      "1/1 [==============================] - 0s 20ms/step\n",
      "1/1 [==============================] - 0s 20ms/step\n",
      "1/1 [==============================] - 0s 19ms/step\n",
      "1/1 [==============================] - 0s 20ms/step\n",
      "1/1 [==============================] - 0s 19ms/step\n",
      "1/1 [==============================] - 0s 20ms/step\n",
      "1/1 [==============================] - 0s 20ms/step\n",
      "1/1 [==============================] - 0s 20ms/step\n",
      "-\n",
      "English:        come see me\n",
      "Spanish (true):  venga a verme\n",
      "Spanish (pred):  ven a casa\n",
      "1/1 [==============================] - 0s 21ms/step\n",
      "1/1 [==============================] - 0s 20ms/step\n",
      "1/1 [==============================] - 0s 19ms/step\n",
      "1/1 [==============================] - 0s 19ms/step\n",
      "1/1 [==============================] - 0s 20ms/step\n",
      "1/1 [==============================] - 0s 19ms/step\n",
      "1/1 [==============================] - 0s 21ms/step\n",
      "1/1 [==============================] - 0s 21ms/step\n",
      "1/1 [==============================] - 0s 19ms/step\n",
      "1/1 [==============================] - 0s 19ms/step\n",
      "1/1 [==============================] - 0s 21ms/step\n",
      "1/1 [==============================] - 0s 20ms/step\n",
      "1/1 [==============================] - 0s 20ms/step\n",
      "1/1 [==============================] - 0s 22ms/step\n",
      "1/1 [==============================] - 0s 21ms/step\n",
      "-\n",
      "English:        comfort tom\n",
      "Spanish (true):  consuela a tom\n",
      "Spanish (pred):  ven a con tom\n",
      "1/1 [==============================] - 0s 20ms/step\n",
      "1/1 [==============================] - 0s 20ms/step\n",
      "1/1 [==============================] - 0s 20ms/step\n",
      "1/1 [==============================] - 0s 19ms/step\n",
      "1/1 [==============================] - 0s 19ms/step\n",
      "1/1 [==============================] - 0s 20ms/step\n",
      "1/1 [==============================] - 0s 20ms/step\n",
      "1/1 [==============================] - 0s 22ms/step\n",
      "1/1 [==============================] - 0s 20ms/step\n",
      "1/1 [==============================] - 0s 19ms/step\n",
      "1/1 [==============================] - 0s 20ms/step\n",
      "1/1 [==============================] - 0s 21ms/step\n",
      "1/1 [==============================] - 0s 20ms/step\n",
      "1/1 [==============================] - 0s 21ms/step\n",
      "1/1 [==============================] - 0s 19ms/step\n",
      "1/1 [==============================] - 0s 20ms/step\n",
      "-\n",
      "English:        contact tom\n",
      "Spanish (true):  ponte en contacto con tom\n",
      "Spanish (pred):  contenta a tom\n",
      "1/1 [==============================] - 0s 21ms/step\n",
      "1/1 [==============================] - 0s 19ms/step\n",
      "1/1 [==============================] - 0s 20ms/step\n",
      "1/1 [==============================] - 0s 20ms/step\n",
      "1/1 [==============================] - 0s 19ms/step\n",
      "1/1 [==============================] - 0s 19ms/step\n",
      "1/1 [==============================] - 0s 20ms/step\n",
      "1/1 [==============================] - 0s 19ms/step\n",
      "1/1 [==============================] - 0s 19ms/step\n",
      "1/1 [==============================] - 0s 19ms/step\n",
      "1/1 [==============================] - 0s 19ms/step\n",
      "1/1 [==============================] - 0s 19ms/step\n",
      "1/1 [==============================] - 0s 20ms/step\n",
      "1/1 [==============================] - 0s 20ms/step\n",
      "1/1 [==============================] - 0s 19ms/step\n",
      "1/1 [==============================] - 0s 19ms/step\n",
      "1/1 [==============================] - 0s 22ms/step\n",
      "1/1 [==============================] - 0s 19ms/step\n",
      "1/1 [==============================] - 0s 19ms/step\n",
      "1/1 [==============================] - 0s 19ms/step\n",
      "-\n",
      "English:        cook for me\n",
      "Spanish (true):  cociname\n",
      "Spanish (pred):  cuenta a casa masm\n",
      "1/1 [==============================] - 0s 19ms/step\n",
      "1/1 [==============================] - 0s 20ms/step\n",
      "1/1 [==============================] - 0s 20ms/step\n",
      "1/1 [==============================] - 0s 19ms/step\n",
      "1/1 [==============================] - 0s 20ms/step\n",
      "1/1 [==============================] - 0s 20ms/step\n",
      "1/1 [==============================] - 0s 20ms/step\n",
      "1/1 [==============================] - 0s 20ms/step\n",
      "1/1 [==============================] - 0s 20ms/step\n",
      "1/1 [==============================] - 0s 20ms/step\n",
      "1/1 [==============================] - 0s 19ms/step\n",
      "1/1 [==============================] - 0s 19ms/step\n",
      "1/1 [==============================] - 0s 19ms/step\n",
      "1/1 [==============================] - 0s 19ms/step\n",
      "1/1 [==============================] - 0s 21ms/step\n",
      "1/1 [==============================] - 0s 19ms/step\n",
      "1/1 [==============================] - 0s 19ms/step\n",
      "1/1 [==============================] - 0s 19ms/step\n",
      "1/1 [==============================] - 0s 19ms/step\n",
      "1/1 [==============================] - 0s 19ms/step\n",
      "-\n",
      "English:        cook for me\n",
      "Spanish (true):  cocina para mi\n",
      "Spanish (pred):  cuenta a casa masm\n",
      "1/1 [==============================] - 0s 20ms/step\n",
      "1/1 [==============================] - 0s 20ms/step\n",
      "1/1 [==============================] - 0s 19ms/step\n",
      "1/1 [==============================] - 0s 19ms/step\n",
      "1/1 [==============================] - 0s 19ms/step\n",
      "1/1 [==============================] - 0s 19ms/step\n",
      "1/1 [==============================] - 0s 19ms/step\n",
      "1/1 [==============================] - 0s 21ms/step\n",
      "1/1 [==============================] - 0s 19ms/step\n",
      "1/1 [==============================] - 0s 20ms/step\n",
      "1/1 [==============================] - 0s 19ms/step\n",
      "1/1 [==============================] - 0s 20ms/step\n",
      "1/1 [==============================] - 0s 20ms/step\n",
      "1/1 [==============================] - 0s 19ms/step\n",
      "1/1 [==============================] - 0s 19ms/step\n",
      "1/1 [==============================] - 0s 19ms/step\n",
      "-\n",
      "English:        count me in\n",
      "Spanish (true):  cuenta conmigo\n",
      "Spanish (pred):  cuenta conmigo\n",
      "1/1 [==============================] - 0s 20ms/step\n",
      "1/1 [==============================] - 0s 19ms/step\n",
      "1/1 [==============================] - 0s 21ms/step\n",
      "1/1 [==============================] - 0s 19ms/step\n",
      "1/1 [==============================] - 0s 19ms/step\n",
      "1/1 [==============================] - 0s 19ms/step\n",
      "1/1 [==============================] - 0s 19ms/step\n",
      "1/1 [==============================] - 0s 19ms/step\n",
      "1/1 [==============================] - 0s 19ms/step\n",
      "1/1 [==============================] - 0s 20ms/step\n",
      "1/1 [==============================] - 0s 19ms/step\n",
      "1/1 [==============================] - 0s 19ms/step\n",
      "1/1 [==============================] - 0s 20ms/step\n",
      "1/1 [==============================] - 0s 19ms/step\n",
      "1/1 [==============================] - 0s 19ms/step\n",
      "1/1 [==============================] - 0s 19ms/step\n",
      "-\n",
      "English:        count on it\n",
      "Spanish (true):  cuenta con eso\n",
      "Spanish (pred):  cuenta con eso\n",
      "1/1 [==============================] - 0s 18ms/step\n",
      "1/1 [==============================] - 0s 19ms/step\n"
     ]
    },
    {
     "name": "stdout",
     "output_type": "stream",
     "text": [
      "1/1 [==============================] - 0s 19ms/step\n",
      "1/1 [==============================] - 0s 19ms/step\n",
      "1/1 [==============================] - 0s 19ms/step\n",
      "1/1 [==============================] - 0s 19ms/step\n",
      "1/1 [==============================] - 0s 19ms/step\n",
      "1/1 [==============================] - 0s 19ms/step\n",
      "1/1 [==============================] - 0s 19ms/step\n",
      "1/1 [==============================] - 0s 19ms/step\n",
      "1/1 [==============================] - 0s 20ms/step\n",
      "1/1 [==============================] - 0s 19ms/step\n",
      "1/1 [==============================] - 0s 19ms/step\n",
      "1/1 [==============================] - 0s 19ms/step\n",
      "1/1 [==============================] - 0s 19ms/step\n",
      "1/1 [==============================] - 0s 19ms/step\n",
      "-\n",
      "English:        count on it\n",
      "Spanish (true):  cuente con eso\n",
      "Spanish (pred):  cuenta con eso\n",
      "1/1 [==============================] - 0s 18ms/step\n",
      "1/1 [==============================] - 0s 19ms/step\n",
      "1/1 [==============================] - 0s 19ms/step\n",
      "1/1 [==============================] - 0s 19ms/step\n",
      "1/1 [==============================] - 0s 19ms/step\n",
      "1/1 [==============================] - 0s 19ms/step\n",
      "1/1 [==============================] - 0s 19ms/step\n",
      "1/1 [==============================] - 0s 19ms/step\n",
      "1/1 [==============================] - 0s 21ms/step\n",
      "1/1 [==============================] - 0s 19ms/step\n",
      "1/1 [==============================] - 0s 20ms/step\n",
      "1/1 [==============================] - 0s 20ms/step\n",
      "1/1 [==============================] - 0s 20ms/step\n",
      "1/1 [==============================] - 0s 19ms/step\n",
      "1/1 [==============================] - 0s 19ms/step\n",
      "1/1 [==============================] - 0s 19ms/step\n",
      "-\n",
      "English:        count on me\n",
      "Spanish (true):  cuenta conmigo\n",
      "Spanish (pred):  cuenta conmigo\n",
      "1/1 [==============================] - 0s 18ms/step\n",
      "1/1 [==============================] - 0s 19ms/step\n",
      "1/1 [==============================] - 0s 21ms/step\n",
      "1/1 [==============================] - 0s 19ms/step\n",
      "1/1 [==============================] - 0s 19ms/step\n",
      "1/1 [==============================] - 0s 19ms/step\n",
      "1/1 [==============================] - 0s 19ms/step\n",
      "1/1 [==============================] - 0s 19ms/step\n",
      "1/1 [==============================] - 0s 19ms/step\n",
      "1/1 [==============================] - 0s 19ms/step\n",
      "1/1 [==============================] - 0s 19ms/step\n",
      "1/1 [==============================] - 0s 19ms/step\n",
      "1/1 [==============================] - 0s 19ms/step\n",
      "-\n",
      "English:        did tom die\n",
      "Spanish (true):  ha muerto tom\n",
      "Spanish (pred):  lo hijo tom\n",
      "1/1 [==============================] - 0s 20ms/step\n",
      "1/1 [==============================] - 0s 20ms/step\n",
      "1/1 [==============================] - 0s 20ms/step\n",
      "1/1 [==============================] - 0s 19ms/step\n",
      "1/1 [==============================] - 0s 19ms/step\n",
      "1/1 [==============================] - 0s 19ms/step\n",
      "1/1 [==============================] - 0s 19ms/step\n",
      "1/1 [==============================] - 0s 19ms/step\n",
      "1/1 [==============================] - 0s 19ms/step\n",
      "1/1 [==============================] - 0s 19ms/step\n",
      "1/1 [==============================] - 0s 19ms/step\n",
      "1/1 [==============================] - 0s 19ms/step\n",
      "1/1 [==============================] - 0s 19ms/step\n",
      "1/1 [==============================] - 0s 19ms/step\n",
      "-\n",
      "English:        did tom run\n",
      "Spanish (true):  corrio tom\n",
      "Spanish (pred):  lo piobo tom\n",
      "1/1 [==============================] - 0s 18ms/step\n",
      "1/1 [==============================] - 0s 19ms/step\n",
      "1/1 [==============================] - 0s 19ms/step\n",
      "1/1 [==============================] - 0s 19ms/step\n",
      "1/1 [==============================] - 0s 20ms/step\n",
      "1/1 [==============================] - 0s 19ms/step\n",
      "1/1 [==============================] - 0s 19ms/step\n",
      "1/1 [==============================] - 0s 19ms/step\n",
      "1/1 [==============================] - 0s 19ms/step\n",
      "1/1 [==============================] - 0s 19ms/step\n",
      "1/1 [==============================] - 0s 20ms/step\n",
      "1/1 [==============================] - 0s 19ms/step\n",
      "1/1 [==============================] - 0s 19ms/step\n",
      "-\n",
      "English:        did tom try\n",
      "Spanish (true):  lo ha probado tom\n",
      "Spanish (pred):  lo habo tom\n",
      "1/1 [==============================] - 0s 19ms/step\n",
      "1/1 [==============================] - 0s 19ms/step\n",
      "1/1 [==============================] - 0s 19ms/step\n",
      "1/1 [==============================] - 0s 19ms/step\n",
      "1/1 [==============================] - 0s 19ms/step\n",
      "1/1 [==============================] - 0s 19ms/step\n",
      "1/1 [==============================] - 0s 20ms/step\n",
      "1/1 [==============================] - 0s 19ms/step\n",
      "1/1 [==============================] - 0s 19ms/step\n",
      "1/1 [==============================] - 0s 19ms/step\n",
      "1/1 [==============================] - 0s 20ms/step\n",
      "1/1 [==============================] - 0s 21ms/step\n",
      "1/1 [==============================] - 0s 19ms/step\n",
      "-\n",
      "English:        did tom try\n",
      "Spanish (true):  al final lo probo tom o no\n",
      "Spanish (pred):  lo habo tom\n",
      "1/1 [==============================] - 0s 18ms/step\n",
      "1/1 [==============================] - 0s 19ms/step\n",
      "1/1 [==============================] - 0s 20ms/step\n",
      "1/1 [==============================] - 0s 19ms/step\n",
      "1/1 [==============================] - 0s 19ms/step\n",
      "1/1 [==============================] - 0s 19ms/step\n",
      "1/1 [==============================] - 0s 19ms/step\n",
      "1/1 [==============================] - 0s 19ms/step\n",
      "1/1 [==============================] - 0s 19ms/step\n",
      "1/1 [==============================] - 0s 20ms/step\n",
      "1/1 [==============================] - 0s 19ms/step\n",
      "1/1 [==============================] - 0s 19ms/step\n",
      "1/1 [==============================] - 0s 19ms/step\n",
      "-\n",
      "English:        did tom try\n",
      "Spanish (true):  lo probo tom\n",
      "Spanish (pred):  lo habo tom\n",
      "1/1 [==============================] - 0s 20ms/step\n",
      "1/1 [==============================] - 0s 19ms/step\n",
      "1/1 [==============================] - 0s 19ms/step\n",
      "1/1 [==============================] - 0s 19ms/step\n",
      "1/1 [==============================] - 0s 19ms/step\n",
      "1/1 [==============================] - 0s 19ms/step\n",
      "1/1 [==============================] - 0s 19ms/step\n",
      "1/1 [==============================] - 0s 19ms/step\n",
      "1/1 [==============================] - 0s 20ms/step\n",
      "1/1 [==============================] - 0s 21ms/step\n",
      "-\n",
      "English:        did tom win\n",
      "Spanish (true):  gano tom\n",
      "Spanish (pred):  gano tom\n",
      "1/1 [==============================] - 0s 21ms/step\n",
      "1/1 [==============================] - 0s 20ms/step\n",
      "1/1 [==============================] - 0s 20ms/step\n",
      "1/1 [==============================] - 0s 22ms/step\n",
      "1/1 [==============================] - 0s 22ms/step\n",
      "1/1 [==============================] - 0s 22ms/step\n",
      "1/1 [==============================] - 0s 22ms/step\n",
      "1/1 [==============================] - 0s 21ms/step\n",
      "1/1 [==============================] - 0s 20ms/step\n",
      "-\n",
      "English:        did you win\n",
      "Spanish (true):  ganaste\n",
      "Spanish (pred):  ganaste\n",
      "1/1 [==============================] - 0s 18ms/step\n",
      "1/1 [==============================] - 0s 20ms/step\n",
      "1/1 [==============================] - 0s 19ms/step\n",
      "1/1 [==============================] - 0s 19ms/step\n",
      "1/1 [==============================] - 0s 20ms/step\n",
      "1/1 [==============================] - 0s 19ms/step\n",
      "1/1 [==============================] - 0s 21ms/step\n",
      "1/1 [==============================] - 0s 20ms/step\n",
      "1/1 [==============================] - 0s 20ms/step\n",
      "1/1 [==============================] - 0s 19ms/step\n",
      "1/1 [==============================] - 0s 19ms/step\n",
      "1/1 [==============================] - 0s 19ms/step\n",
      "1/1 [==============================] - 0s 19ms/step\n",
      "1/1 [==============================] - 0s 19ms/step\n",
      "1/1 [==============================] - 0s 20ms/step\n",
      "-\n",
      "English:        dig quickly\n",
      "Spanish (true):  cava rapido\n",
      "Spanish (pred):  habla frinces\n",
      "1/1 [==============================] - 0s 18ms/step\n",
      "1/1 [==============================] - 0s 19ms/step\n",
      "1/1 [==============================] - 0s 19ms/step\n",
      "1/1 [==============================] - 0s 19ms/step\n",
      "1/1 [==============================] - 0s 19ms/step\n",
      "1/1 [==============================] - 0s 19ms/step\n",
      "1/1 [==============================] - 0s 19ms/step\n",
      "1/1 [==============================] - 0s 19ms/step\n",
      "1/1 [==============================] - 0s 19ms/step\n",
      "1/1 [==============================] - 0s 19ms/step\n"
     ]
    },
    {
     "name": "stdout",
     "output_type": "stream",
     "text": [
      "1/1 [==============================] - 0s 19ms/step\n",
      "1/1 [==============================] - 0s 19ms/step\n",
      "1/1 [==============================] - 0s 19ms/step\n",
      "1/1 [==============================] - 0s 19ms/step\n",
      "1/1 [==============================] - 0s 21ms/step\n",
      "-\n",
      "English:        dig quickly\n",
      "Spanish (true):  cavad rapido\n",
      "Spanish (pred):  habla frinces\n"
     ]
    }
   ],
   "source": [
    "for seq_index in range(2100, 2120):\n",
    "    # Take one sequence (part of the training set)\n",
    "    # for trying out decoding.\n",
    "    input_seq = encoder_input_data[seq_index: seq_index + 1]\n",
    "    decoded_sentence = decode_sequence(input_seq)\n",
    "    print('-')\n",
    "    print('English:       ', input_texts[seq_index])\n",
    "    print('Spanish (true): ', target_texts[seq_index][1:-1])\n",
    "    print('Spanish (pred): ', decoded_sentence[0:-1])\n"
   ]
  },
  {
   "cell_type": "markdown",
   "metadata": {
    "id": "PbJ49Be7edCj"
   },
   "source": [
    "### 4.2. Translate an English sentence to the target language （20 points）\n",
    "\n",
    "1. Tokenization\n",
    "2. One-hot encode\n",
    "3. Translate"
   ]
  },
  {
   "cell_type": "code",
   "execution_count": 29,
   "metadata": {
    "id": "UPhY6DtxedCj"
   },
   "outputs": [
    {
     "name": "stdout",
     "output_type": "stream",
     "text": [
      "1/1 [==============================] - 0s 19ms/step\n",
      "1/1 [==============================] - 0s 20ms/step\n",
      "1/1 [==============================] - 0s 19ms/step\n",
      "1/1 [==============================] - 0s 20ms/step\n",
      "1/1 [==============================] - 0s 21ms/step\n",
      "1/1 [==============================] - 0s 20ms/step\n",
      "1/1 [==============================] - 0s 20ms/step\n",
      "1/1 [==============================] - 0s 19ms/step\n",
      "1/1 [==============================] - 0s 19ms/step\n",
      "1/1 [==============================] - 0s 19ms/step\n",
      "source sentence is: I love you\n",
      "translated sentence is: te amaba\n",
      "\n"
     ]
    }
   ],
   "source": [
    "input_sentence = 'I love you'\n",
    "\n",
    "input_sequence = [[input_token_index[char] for char in input_sentence.lower()]]\n",
    "input_sequence_padded = pad_sequences(input_sequence, maxlen=max_encoder_seq_length, padding='post')\n",
    "\n",
    "input_x = onehot_encode(input_sequence_padded, max_encoder_seq_length, num_encoder_tokens)\n",
    "\n",
    "translated_sentence = decode_sequence(input_x)\n",
    "\n",
    "print('source sentence is: ' + input_sentence)\n",
    "print('translated sentence is: ' + translated_sentence)"
   ]
  },
  {
   "cell_type": "markdown",
   "metadata": {
    "id": "URAfpeZ9edCj"
   },
   "source": [
    "# 5. Evaluate the translation using BLEU score\n",
    "\n",
    "- We have already translated from English to target language, but how can we evaluate the performance of our model quantitatively?\n",
    "\n",
    "- In this section, you need to re-train the model we built in section 3 and then evaluate the bleu score on testing dataset.\n",
    "\n",
    "Reference:\n",
    "\n",
    "https://machinelearningmastery.com/calculate-bleu-score-for-text-python/\n",
    "\n",
    "https://en.wikipedia.org/wiki/BLEU\n",
    "\n",
    "#### Hint:\n",
    "\n",
    "- Randomly partition the dataset to training, validation, and test.\n",
    "\n",
    "- Evaluate the BLEU score using the test set. Report the average.\n",
    "\n",
    "- You may use packages to calculate bleu score, e.g., sentence_bleu() from nltk package."
   ]
  },
  {
   "cell_type": "markdown",
   "metadata": {
    "id": "wGsGGy8tedCj"
   },
   "source": [
    "### 5.1. Partition the dataset to training, validation, and test. Build new token index. (10 points)\n",
    "\n",
    "1. You may try to load more data/lines from text file.\n",
    "2. Convert text to sequences and build token index using training data.\n",
    "3. One-hot encode your training and validation text sequences."
   ]
  },
  {
   "cell_type": "code",
   "execution_count": 30,
   "metadata": {
    "id": "8KSF8LkeedCj"
   },
   "outputs": [],
   "source": [
    "# load dataset\n",
    "doc = load_doc(filename)\n",
    "\n",
    "# split into Language1-Language2 pairs\n",
    "pairs = to_pairs(doc)\n",
    "\n",
    "# clean sentences\n",
    "clean_pairs = clean_data(pairs)"
   ]
  },
  {
   "cell_type": "code",
   "execution_count": 31,
   "metadata": {},
   "outputs": [],
   "source": [
    "total_size = 100000\n",
    "rand_indices = numpy.random.permutation(total_size)\n",
    "train_indices = rand_indices[0:50000]\n",
    "val_indices = rand_indices[50000:70000]\n",
    "test_indices = rand_indices[70000:100000]\n",
    "\n",
    "clean_pairs_train = clean_pairs[train_indices, :]\n",
    "clean_pairs_val = clean_pairs[val_indices, :]\n",
    "clean_pairs_test = clean_pairs[test_indices, :]"
   ]
  },
  {
   "cell_type": "code",
   "execution_count": 32,
   "metadata": {},
   "outputs": [],
   "source": [
    "# Training Data\n",
    "input_texts_train = clean_pairs_train[:, 0]\n",
    "target_texts_train = ['\\t' + text + '\\n' for text in clean_pairs_train[:, 1]]\n",
    "\n",
    "# Validation Data\n",
    "input_texts_val = clean_pairs_val[:, 0]\n",
    "target_texts_val = ['\\t' + text + '\\n' for text in clean_pairs_val[:, 1]]\n",
    "\n",
    "# Testing Set\n",
    "input_texts_test = clean_pairs_test[:, 0]\n",
    "target_texts_test = ['\\t' + text + '\\n' for text in clean_pairs_test[:, 1]]"
   ]
  },
  {
   "cell_type": "code",
   "execution_count": 33,
   "metadata": {},
   "outputs": [],
   "source": [
    "max_encoder_seq_length = max(len(line) for line in input_texts_train)\n",
    "max_decoder_seq_length = max(len(line) for line in target_texts_train)"
   ]
  },
  {
   "cell_type": "code",
   "execution_count": 34,
   "metadata": {},
   "outputs": [
    {
     "name": "stdout",
     "output_type": "stream",
     "text": [
      "shape of encoder_input_seq_train: (50000, 35)\n",
      "shape of input_token_index_train: 27\n",
      "shape of decoder_input_seq_train: (50000, 87)\n",
      "shape of target_token_index_train: 29\n"
     ]
    }
   ],
   "source": [
    "encoder_input_seq_train, input_token_index_train = text2sequences(max_encoder_seq_length, \n",
    "                                                      input_texts_train)\n",
    "decoder_input_seq_train, target_token_index_train = text2sequences(max_decoder_seq_length, \n",
    "                                                       target_texts_train)\n",
    "\n",
    "print('shape of encoder_input_seq_train: ' + str(encoder_input_seq_train.shape))\n",
    "print('shape of input_token_index_train: ' + str(len(input_token_index_train)))\n",
    "print('shape of decoder_input_seq_train: ' + str(decoder_input_seq_train.shape))\n",
    "print('shape of target_token_index_train: ' + str(len(target_token_index_train)))"
   ]
  },
  {
   "cell_type": "code",
   "execution_count": 35,
   "metadata": {},
   "outputs": [
    {
     "name": "stdout",
     "output_type": "stream",
     "text": [
      "shape of encoder_input_seq_val: (20000, 35)\n",
      "shape of input_token_index_val: 27\n",
      "shape of decoder_input_seq_val: (20000, 87)\n",
      "shape of target_token_index_val: 29\n"
     ]
    }
   ],
   "source": [
    "encoder_input_seq_val, input_token_index_val = text2sequences(max_encoder_seq_length, \n",
    "                                                      input_texts_val)\n",
    "decoder_input_seq_val, target_token_index_val = text2sequences(max_decoder_seq_length, \n",
    "                                                       target_texts_val)\n",
    "\n",
    "print('shape of encoder_input_seq_val: ' + str(encoder_input_seq_val.shape))\n",
    "print('shape of input_token_index_val: ' + str(len(input_token_index_val)))\n",
    "print('shape of decoder_input_seq_val: ' + str(decoder_input_seq_val.shape))\n",
    "print('shape of target_token_index_val: ' + str(len(target_token_index_val)))"
   ]
  },
  {
   "cell_type": "code",
   "execution_count": 36,
   "metadata": {},
   "outputs": [
    {
     "name": "stdout",
     "output_type": "stream",
     "text": [
      "num_encoder_tokens: 28\n",
      "num_decoder_tokens: 30\n"
     ]
    }
   ],
   "source": [
    "num_encoder_tokens = len(input_token_index_train) + 1\n",
    "num_decoder_tokens = len(target_token_index_train) + 1\n",
    "\n",
    "print('num_encoder_tokens: ' + str(num_encoder_tokens))\n",
    "print('num_decoder_tokens: ' + str(num_decoder_tokens))"
   ]
  },
  {
   "cell_type": "code",
   "execution_count": 37,
   "metadata": {},
   "outputs": [
    {
     "name": "stdout",
     "output_type": "stream",
     "text": [
      "(50000, 35, 28)\n",
      "(50000, 87, 30)\n"
     ]
    }
   ],
   "source": [
    "encoder_input_data_train = onehot_encode(encoder_input_seq_train, max_encoder_seq_length, num_encoder_tokens)\n",
    "decoder_input_data_train = onehot_encode(decoder_input_seq_train, max_decoder_seq_length, num_decoder_tokens)\n",
    "\n",
    "decoder_target_seq_train = numpy.zeros(decoder_input_seq_train.shape)\n",
    "decoder_target_seq_train[:, 0:-1] = decoder_input_seq_train[:, 1:]\n",
    "decoder_target_data_train = onehot_encode(decoder_target_seq_train, \n",
    "                                    max_decoder_seq_length, \n",
    "                                    num_decoder_tokens)\n",
    "\n",
    "print(encoder_input_data_train.shape)\n",
    "print(decoder_input_data_train.shape)"
   ]
  },
  {
   "cell_type": "code",
   "execution_count": 38,
   "metadata": {},
   "outputs": [
    {
     "name": "stdout",
     "output_type": "stream",
     "text": [
      "(20000, 35, 28)\n",
      "(20000, 87, 30)\n"
     ]
    }
   ],
   "source": [
    "encoder_input_data_val = onehot_encode(encoder_input_seq_val, max_encoder_seq_length, num_encoder_tokens)\n",
    "decoder_input_data_val = onehot_encode(decoder_input_seq_val, max_decoder_seq_length, num_decoder_tokens)\n",
    "\n",
    "decoder_target_seq_val = numpy.zeros(decoder_input_seq_val.shape)\n",
    "decoder_target_seq_val[:, 0:-1] = decoder_input_seq_val[:, 1:]\n",
    "decoder_target_data_val = onehot_encode(decoder_target_seq_val, \n",
    "                                    max_decoder_seq_length, \n",
    "                                    num_decoder_tokens)\n",
    "\n",
    "print(encoder_input_data_val.shape)\n",
    "print(decoder_input_data_val.shape)"
   ]
  },
  {
   "cell_type": "markdown",
   "metadata": {
    "id": "zCJp-yHpedCj"
   },
   "source": [
    "### 5.2 Retrain your previous Bidirectional LSTM model with training and validation data and tune the parameters (learning rate, optimizer, etc) based on validation score. (25 points)\n",
    "\n",
    "1. Use the model structure in section 3 to train a new model with new training and validation datasets.\n",
    "2. Based on validation BLEU score or loss to tune parameters."
   ]
  },
  {
   "cell_type": "code",
   "execution_count": 39,
   "metadata": {
    "id": "ABoQ52KGedCk"
   },
   "outputs": [
    {
     "name": "stdout",
     "output_type": "stream",
     "text": [
      "Epoch 1/50\n",
      "1563/1563 [==============================] - 767s 489ms/step - loss: 0.6829 - val_loss: 0.4948\n",
      "Epoch 2/50\n",
      "1563/1563 [==============================] - 755s 483ms/step - loss: 0.5984 - val_loss: 0.4276\n",
      "Epoch 3/50\n",
      "1563/1563 [==============================] - 809s 517ms/step - loss: 0.5617 - val_loss: 0.3944\n",
      "Epoch 4/50\n",
      "1563/1563 [==============================] - 813s 520ms/step - loss: 0.5367 - val_loss: 0.3682\n",
      "Epoch 5/50\n",
      "1563/1563 [==============================] - 818s 523ms/step - loss: 0.5179 - val_loss: 0.3567\n",
      "Epoch 6/50\n",
      "1563/1563 [==============================] - 785s 502ms/step - loss: 0.5042 - val_loss: 0.3417\n",
      "Epoch 7/50\n",
      "1563/1563 [==============================] - 763s 488ms/step - loss: 0.4917 - val_loss: 0.3332\n",
      "Epoch 8/50\n",
      "1563/1563 [==============================] - 760s 486ms/step - loss: 0.4845 - val_loss: 0.3249\n",
      "Epoch 9/50\n",
      "1563/1563 [==============================] - 760s 486ms/step - loss: 0.4742 - val_loss: 0.3205\n",
      "Epoch 10/50\n",
      "1563/1563 [==============================] - 760s 486ms/step - loss: 0.4705 - val_loss: 0.3171\n",
      "Epoch 11/50\n",
      "1563/1563 [==============================] - 760s 486ms/step - loss: 0.4639 - val_loss: 0.3115\n",
      "Epoch 12/50\n",
      "1563/1563 [==============================] - 760s 486ms/step - loss: 0.4613 - val_loss: 0.3073\n",
      "Epoch 13/50\n",
      "1563/1563 [==============================] - 760s 486ms/step - loss: 0.4637 - val_loss: 0.3091\n",
      "Epoch 14/50\n",
      "1563/1563 [==============================] - 760s 486ms/step - loss: 0.4648 - val_loss: 0.3086\n",
      "Epoch 15/50\n",
      "1563/1563 [==============================] - 1636s 1s/step - loss: 0.4661 - val_loss: 0.3073\n",
      "Epoch 16/50\n",
      "1563/1563 [==============================] - 768s 491ms/step - loss: 0.4580 - val_loss: 0.3038\n",
      "Epoch 17/50\n",
      "1563/1563 [==============================] - 875s 560ms/step - loss: 0.4508 - val_loss: 0.2997\n",
      "Epoch 18/50\n",
      "1563/1563 [==============================] - 873s 558ms/step - loss: 0.4455 - val_loss: 0.2960\n",
      "Epoch 19/50\n",
      "1563/1563 [==============================] - 869s 556ms/step - loss: 0.4474 - val_loss: 0.2964\n",
      "Epoch 20/50\n",
      "1563/1563 [==============================] - 816s 522ms/step - loss: 0.4506 - val_loss: 0.2976\n",
      "Epoch 21/50\n",
      "1563/1563 [==============================] - 765s 490ms/step - loss: 0.4511 - val_loss: 0.2977\n",
      "Epoch 22/50\n",
      "1563/1563 [==============================] - 764s 489ms/step - loss: 0.4514 - val_loss: 0.2972\n",
      "Epoch 23/50\n",
      "1563/1563 [==============================] - 765s 489ms/step - loss: 0.4481 - val_loss: 0.2928\n",
      "Epoch 24/50\n",
      "1563/1563 [==============================] - 765s 489ms/step - loss: 0.4390 - val_loss: 0.2886\n",
      "Epoch 25/50\n",
      "1563/1563 [==============================] - 765s 490ms/step - loss: 0.4338 - val_loss: 0.2839\n",
      "Epoch 26/50\n",
      "1563/1563 [==============================] - 857s 549ms/step - loss: 0.4326 - val_loss: 0.2844\n",
      "Epoch 27/50\n",
      "1563/1563 [==============================] - 788s 504ms/step - loss: 0.4373 - val_loss: 0.2872\n",
      "Epoch 28/50\n",
      "1563/1563 [==============================] - 762s 487ms/step - loss: 0.4364 - val_loss: 0.2824\n",
      "Epoch 29/50\n",
      "1563/1563 [==============================] - 762s 487ms/step - loss: 0.4313 - val_loss: 0.2816\n",
      "Epoch 30/50\n",
      "1563/1563 [==============================] - 762s 488ms/step - loss: 0.4318 - val_loss: 0.2823\n",
      "Epoch 31/50\n",
      "1563/1563 [==============================] - 828s 530ms/step - loss: 0.4310 - val_loss: 0.2793\n",
      "Epoch 32/50\n",
      "1563/1563 [==============================] - 881s 564ms/step - loss: 0.4291 - val_loss: 0.2806\n",
      "Epoch 33/50\n",
      "1563/1563 [==============================] - 863s 552ms/step - loss: 0.4272 - val_loss: 0.2921\n",
      "Epoch 34/50\n",
      "1563/1563 [==============================] - 812s 520ms/step - loss: 0.4239 - val_loss: 0.2754\n",
      "Epoch 35/50\n",
      "1563/1563 [==============================] - 765s 489ms/step - loss: 0.4198 - val_loss: 0.2701\n",
      "Epoch 36/50\n",
      "1563/1563 [==============================] - 802s 513ms/step - loss: 0.4147 - val_loss: 0.2692\n",
      "Epoch 37/50\n",
      "1563/1563 [==============================] - 823s 527ms/step - loss: 0.4163 - val_loss: 0.2702\n",
      "Epoch 38/50\n",
      "1563/1563 [==============================] - 808s 517ms/step - loss: 0.4176 - val_loss: 0.2697\n",
      "Epoch 39/50\n",
      "1563/1563 [==============================] - 810s 518ms/step - loss: 0.4204 - val_loss: 0.2724\n",
      "Epoch 40/50\n",
      "1563/1563 [==============================] - 767s 490ms/step - loss: 0.4173 - val_loss: 0.2706\n",
      "Epoch 41/50\n",
      "1563/1563 [==============================] - 764s 489ms/step - loss: 0.4207 - val_loss: 0.2749\n",
      "Epoch 41: early stopping\n"
     ]
    }
   ],
   "source": [
    "from tensorflow import keras\n",
    "\n",
    "model.compile(optimizer=keras.optimizers.Adamax(learning_rate=0.01),\n",
    "              loss='categorical_crossentropy')\n",
    "\n",
    "stop_early = keras.callbacks.EarlyStopping(monitor='val_loss', patience=5, verbose=1, mode='auto')\n",
    "\n",
    "model.fit([encoder_input_data_train, decoder_input_data_train],\n",
    "               decoder_target_data_train, epochs=50,\n",
    "               validation_data=([encoder_input_data_val, decoder_input_data_val], decoder_target_data_val),\n",
    "               callbacks=[stop_early])\n",
    "\n",
    "# Saving retrained model\n",
    "model.save('seq2seq_retrained.h5')\n",
    "model.save_weights('model_weights_retrained.h5')"
   ]
  },
  {
   "cell_type": "markdown",
   "metadata": {
    "id": "FSuz_DicedCk"
   },
   "source": [
    "### 5.3 Evaluate the BLEU score using the test set. (15 points)\n",
    "\n",
    "1. Use trained model above to calculate the BLEU score with testing dataset.\n",
    "2. A reasonable value should be 0.1-0.3. The higher, the better."
   ]
  },
  {
   "cell_type": "code",
   "execution_count": 40,
   "metadata": {
    "id": "pIwpAcGLedCk"
   },
   "outputs": [],
   "source": [
    "from nltk.translate.bleu_score import sentence_bleu, SmoothingFunction\n",
    "\n",
    "smoothing_function = SmoothingFunction().method2\n",
    "\n",
    "blue_scores = []\n",
    "\n",
    "encoder_input_seq_test, input_token_index_test = text2sequences(max_encoder_seq_length, \n",
    "                                                      input_texts_test)\n",
    "\n",
    "encoder_input_data_test = onehot_encode(encoder_input_seq_test, max_encoder_seq_length, num_encoder_tokens)\n",
    "\n",
    "reverse_input_char_index = dict((i, char) for char, i in input_token_index_train.items())\n",
    "reverse_target_char_index = dict((i, char) for char, i in target_token_index_train.items())\n",
    "\n",
    "encoder_input_seq_test, input_token_index_test = text2sequences(max_encoder_seq_length, \n",
    "                                                      input_texts_test)\n",
    "decoder_input_seq_test, target_token_index_test = text2sequences(max_decoder_seq_length, \n",
    "                                                       target_texts_test)"
   ]
  },
  {
   "cell_type": "code",
   "execution_count": 41,
   "metadata": {},
   "outputs": [
    {
     "name": "stdout",
     "output_type": "stream",
     "text": [
      "shape of encoder_input_seq_test: (30000, 35)\n",
      "shape of input_token_index_test: 27\n",
      "shape of decoder_input_seq_test: (30000, 87)\n",
      "shape of target_token_index_test: 29\n"
     ]
    }
   ],
   "source": [
    "print('shape of encoder_input_seq_test: ' + str(encoder_input_seq_test.shape))\n",
    "print('shape of input_token_index_test: ' + str(len(input_token_index_test)))\n",
    "print('shape of decoder_input_seq_test: ' + str(decoder_input_seq_test.shape))\n",
    "print('shape of target_token_index_test: ' + str(len(target_token_index_test)))"
   ]
  },
  {
   "cell_type": "code",
   "execution_count": 42,
   "metadata": {},
   "outputs": [],
   "source": [
    "encoder_input_data_test = onehot_encode(encoder_input_seq_test, max_encoder_seq_length, num_encoder_tokens)\n",
    "decoder_input_data_test = onehot_encode(decoder_input_seq_test, max_decoder_seq_length, num_decoder_tokens)\n",
    "\n",
    "decoder_target_seq_test = numpy.zeros(decoder_input_seq_test.shape)\n",
    "decoder_target_seq_test[:, 0:-1] = decoder_input_seq_test[:, 1:]\n",
    "decoder_target_data_test = onehot_encode(decoder_target_seq_test, \n",
    "                                    max_decoder_seq_length, \n",
    "                                    num_decoder_tokens)"
   ]
  },
  {
   "cell_type": "code",
   "execution_count": 43,
   "metadata": {},
   "outputs": [
    {
     "name": "stdout",
     "output_type": "stream",
     "text": [
      "(30000, 35, 28)\n",
      "(30000, 87, 30)\n"
     ]
    }
   ],
   "source": [
    "print(encoder_input_data_test.shape)\n",
    "print(decoder_input_data_test.shape)"
   ]
  },
  {
   "cell_type": "code",
   "execution_count": 44,
   "metadata": {},
   "outputs": [],
   "source": [
    "reverse_input_char_index = dict((i, char) for char, i in input_token_index_test.items())\n",
    "reverse_target_char_index = dict((i, char) for char, i in target_token_index_test.items())"
   ]
  },
  {
   "cell_type": "code",
   "execution_count": 45,
   "metadata": {},
   "outputs": [],
   "source": [
    "def decode_sequence(input_seq):\n",
    "    states_value = encoder_model.predict(input_seq, verbose='none')\n",
    "\n",
    "    target_seq = numpy.zeros((1, 1, num_decoder_tokens))\n",
    "    target_seq[0, 0, target_token_index['\\t']] = 1.\n",
    "\n",
    "    stop_condition = False\n",
    "    decoded_sentence = ''\n",
    "    while not stop_condition:\n",
    "        output_tokens, h, c = decoder_model.predict([target_seq] + states_value,\n",
    "                                                    verbose='none')\n",
    "\n",
    "        # this line of code is greedy selection\n",
    "        # try to use multinomial sampling instead (with temperature)\n",
    "        sampled_token_index = numpy.argmax(output_tokens[0, -1, :])\n",
    "        \n",
    "        sampled_char = reverse_target_char_index[sampled_token_index]\n",
    "        decoded_sentence += sampled_char\n",
    "\n",
    "        if (sampled_char == '\\n' or\n",
    "           len(decoded_sentence) > max_decoder_seq_length):\n",
    "            stop_condition = True\n",
    "\n",
    "        target_seq = numpy.zeros((1, 1, num_decoder_tokens))\n",
    "        target_seq[0, 0, sampled_token_index] = 1.\n",
    "\n",
    "        states_value = [h, c]\n",
    "\n",
    "    return decoded_sentence"
   ]
  },
  {
   "cell_type": "code",
   "execution_count": 46,
   "metadata": {},
   "outputs": [
    {
     "name": "stdout",
     "output_type": "stream",
     "text": [
      "0 -> 0.12300686288463772\n",
      "1 -> 0.060820553106281094\n",
      "2 -> 0.11044795567078944\n",
      "3 -> 0.0894256643143163\n",
      "4 -> 0.13761232669480913\n",
      "5 -> 0.06730900646889454\n",
      "6 -> 0.05648892151960283\n",
      "7 -> 0.06664199814563841\n",
      "8 -> 0.05599379119409926\n",
      "9 -> 0.059239446585176526\n",
      "10 -> 0.05478891918239913\n",
      "11 -> 0.09224978011409782\n",
      "12 -> 0.057279598784164755\n",
      "13 -> 0.06494357672103247\n",
      "14 -> 0.07837993901367481\n",
      "15 -> 0.060820553106281094\n",
      "16 -> 0.07046533377745744\n",
      "17 -> 0.09500653305583746\n",
      "18 -> 0.04762330565538855\n",
      "19 -> 0.059579874656163496\n",
      "20 -> 0.0588083967791575\n",
      "21 -> 0.037796447300922714\n",
      "22 -> 0.06279501637208412\n",
      "23 -> 0.13309426770177107\n",
      "24 -> 0.058898054573110994\n",
      "25 -> 0.11678449443205002\n",
      "26 -> 0.1280220256953781\n",
      "27 -> 0.0721645129273987\n",
      "28 -> 0.09469491246884826\n",
      "29 -> 0.06941254212572458\n",
      "30 -> 0.04718595618828885\n",
      "31 -> 0.07997892972095699\n",
      "32 -> 0.059579874656163496\n",
      "33 -> 0.09754226655135786\n",
      "34 -> 0.1344791119656338\n",
      "35 -> 0.10682175159905853\n",
      "36 -> 0.058297837453414166\n",
      "37 -> 0.09469491246884826\n",
      "38 -> 0.05337507651464762\n",
      "39 -> 0.03935981280246153\n",
      "40 -> 0.10511846841633776\n",
      "41 -> 0.12718249172769672\n",
      "42 -> 0.09001038613210942\n",
      "43 -> 0.10363232116621422\n",
      "44 -> 0.06941254212572458\n",
      "45 -> 0.05599379119409926\n",
      "46 -> 0.05435795066015218\n",
      "47 -> 0.05337507651464762\n",
      "48 -> 0.05478891918239913\n",
      "49 -> 0.07514384223429621\n",
      "50 -> 0.0660161823828377\n",
      "51 -> 0.13098315887047426\n",
      "52 -> 0.07997892972095699\n",
      "53 -> 0.07238177794755687\n",
      "54 -> 0.05515883843922034\n",
      "55 -> 0.11044795567078944\n",
      "56 -> 0.11374853510120092\n",
      "57 -> 0.06850189111106007\n",
      "58 -> 0.08560617267819094\n",
      "59 -> 0.04890460289800951\n",
      "60 -> 0.06686284897169704\n",
      "61 -> 0.08744821970182538\n",
      "62 -> 0.05692516180067106\n",
      "63 -> 0.09760993379048989\n",
      "64 -> 0.09760993379048989\n",
      "65 -> 0.08190751676555486\n",
      "66 -> 0.04743001532077802\n",
      "67 -> 0.08744821970182538\n",
      "68 -> 0.05955840366736178\n",
      "69 -> 0.06228716101382995\n",
      "70 -> 0.05435795066015218\n",
      "71 -> 0.060820553106281094\n",
      "72 -> 0.0462511178324249\n",
      "73 -> 0.0737514944404804\n",
      "74 -> 0.05648892151960283\n",
      "75 -> 0.06664199814563841\n",
      "76 -> 0.07337451206367002\n",
      "77 -> 0.09754226655135786\n",
      "78 -> 0.08157122123482033\n",
      "79 -> 0.08325086580696303\n",
      "80 -> 0.07563940168064981\n",
      "81 -> 0.08765398164106392\n",
      "82 -> 0.0588083967791575\n",
      "83 -> 0.11002068284361832\n",
      "84 -> 0.048388681826995815\n",
      "85 -> 0.04211554223247478\n",
      "86 -> 0.13098315887047426\n",
      "87 -> 0.08540069915711807\n",
      "88 -> 0.0709390046023764\n",
      "89 -> 0.07837993901367481\n",
      "90 -> 0.055632025874947824\n",
      "91 -> 0.05712555073098518\n",
      "92 -> 0.04890460289800951\n",
      "93 -> 0.04116343716517321\n",
      "94 -> 0.05515883843922034\n",
      "95 -> 0.0845771381284048\n",
      "96 -> 0.07679634266158697\n",
      "97 -> 0.045160073722963476\n",
      "98 -> 0.06724444140038396\n",
      "99 -> 0.10957783836479826\n"
     ]
    }
   ],
   "source": [
    "bleu_scores = []\n",
    "random_sample = numpy.random.randint(low=0, high=30000, size=100)\n",
    "\n",
    "for i, seq_index in enumerate(random_sample):\n",
    "    input_seq = encoder_input_data_test[seq_index: seq_index + 1]\n",
    "    target = target_texts_test[seq_index]\n",
    "    try:\n",
    "        decoded_sentence = decode_sequence(input_seq)\n",
    "    except KeyError as err:\n",
    "        continue\n",
    "\n",
    "    score = sentence_bleu(target, decoded_sentence, smoothing_function=smoothing_function)\n",
    "    print(i, '->', score)\n",
    "    bleu_scores.append(score)"
   ]
  },
  {
   "cell_type": "code",
   "execution_count": 47,
   "metadata": {},
   "outputs": [
    {
     "name": "stdout",
     "output_type": "stream",
     "text": [
      "0.07601462069041984\n"
     ]
    }
   ],
   "source": [
    "bleu_sum = sum(bleu_scores)\n",
    "total = len(bleu_scores)\n",
    "print(bleu_sum/total)"
   ]
  },
  {
   "cell_type": "code",
   "execution_count": null,
   "metadata": {},
   "outputs": [],
   "source": []
  }
 ],
 "metadata": {
  "accelerator": "GPU",
  "colab": {
   "gpuType": "A100",
   "machine_shape": "hm",
   "provenance": []
  },
  "kernelspec": {
   "display_name": "Python 3 (ipykernel)",
   "language": "python",
   "name": "python3"
  },
  "language_info": {
   "codemirror_mode": {
    "name": "ipython",
    "version": 3
   },
   "file_extension": ".py",
   "mimetype": "text/x-python",
   "name": "python",
   "nbconvert_exporter": "python",
   "pygments_lexer": "ipython3",
   "version": "3.10.13"
  }
 },
 "nbformat": 4,
 "nbformat_minor": 1
}
